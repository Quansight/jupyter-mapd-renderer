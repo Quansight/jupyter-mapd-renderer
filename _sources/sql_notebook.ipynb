{
 "cells": [
  {
   "cell_type": "markdown",
   "metadata": {},
   "source": [
    "# Notebook SQL Editor\n",
    "\n",
    "Ibis is a great tool for abtracting SQL queries, and for more programmatic query generation. However, there are times when it is still useful to quickly test raw SQL. Fortunately, we can use an ibis connection and some display magics to accomplish this.\n",
    "\n",
    "First, we make the relevant imports:"
   ]
  },
  {
   "cell_type": "code",
   "execution_count": 7,
   "metadata": {
    "execution": {
     "iopub.execute_input": "2020-08-31T18:28:18.342481Z",
     "iopub.status.busy": "2020-08-31T18:28:18.342259Z",
     "iopub.status.idle": "2020-08-31T18:28:18.345882Z",
     "shell.execute_reply": "2020-08-31T18:28:18.344991Z",
     "shell.execute_reply.started": "2020-08-31T18:28:18.342456Z"
    }
   },
   "outputs": [],
   "source": [
    "import ibis\n",
    "import jupyterlab_omnisci"
   ]
  },
  {
   "cell_type": "markdown",
   "metadata": {},
   "source": [
    "Now we make a connection to the database:"
   ]
  },
  {
   "cell_type": "code",
   "execution_count": 8,
   "metadata": {
    "execution": {
     "iopub.execute_input": "2020-08-31T18:28:19.084120Z",
     "iopub.status.busy": "2020-08-31T18:28:19.083890Z",
     "iopub.status.idle": "2020-08-31T18:28:28.234611Z",
     "shell.execute_reply": "2020-08-31T18:28:28.234111Z",
     "shell.execute_reply.started": "2020-08-31T18:28:19.084094Z"
    }
   },
   "outputs": [],
   "source": [
    "omnisci_cli = ibis.omniscidb.connect(\n",
    "    host='metis.mapd.com', user='mapd', password='HyperInteractive',\n",
    "    port=443, database='mapd', protocol= 'https'\n",
    ")"
   ]
  },
  {
   "cell_type": "markdown",
   "metadata": {},
   "source": [
    "And verify that the connection worked"
   ]
  },
  {
   "cell_type": "code",
   "execution_count": 9,
   "metadata": {
    "execution": {
     "iopub.execute_input": "2020-08-31T18:28:28.235920Z",
     "iopub.status.busy": "2020-08-31T18:28:28.235756Z",
     "iopub.status.idle": "2020-08-31T18:28:29.557171Z",
     "shell.execute_reply": "2020-08-31T18:28:29.556644Z",
     "shell.execute_reply.started": "2020-08-31T18:28:28.235899Z"
    }
   },
   "outputs": [
    {
     "data": {
      "text/plain": [
       "['flights_donotmodify',\n",
       " 'contributions_donotmodify',\n",
       " 'tweets_nov_feb',\n",
       " 'zipcodes_orig',\n",
       " 'zipcodes',\n",
       " 'demo_vote_clean',\n",
       " 'us_faults',\n",
       " 'zipcodes_2017',\n",
       " 'us_county_level_tiger_edges_2018',\n",
       " 'ca_roads_tiger',\n",
       " 'input_node',\n",
       " 'uk_wells',\n",
       " 'RentalListings']"
      ]
     },
     "execution_count": 9,
     "metadata": {},
     "output_type": "execute_result"
    }
   ],
   "source": [
    "omnisci_cli.list_tables()"
   ]
  },
  {
   "cell_type": "markdown",
   "metadata": {},
   "source": [
    "Let's create a SQL editor from this client:"
   ]
  },
  {
   "cell_type": "code",
   "execution_count": 10,
   "metadata": {
    "execution": {
     "iopub.execute_input": "2020-08-31T18:28:29.559173Z",
     "iopub.status.busy": "2020-08-31T18:28:29.558942Z",
     "iopub.status.idle": "2020-08-31T18:28:29.562949Z",
     "shell.execute_reply": "2020-08-31T18:28:29.562300Z",
     "shell.execute_reply.started": "2020-08-31T18:28:29.559140Z"
    }
   },
   "outputs": [
    {
     "data": {
      "application/vnd.omnisci.sqleditor+json": {
       "connection": {
        "host": "metis.mapd.com",
        "port": 443,
        "protocol": "https"
       },
       "query": "",
       "sessionId": "RrIYqnCrbCIXKDGLGOmPiK2TxUFRhcV1"
      },
      "text/plain": [
       "<jupyterlab_omnisci.magics.OmniSciSQLEditorRenderer at 0x7fdb7025a590>"
      ]
     },
     "execution_count": 10,
     "metadata": {},
     "output_type": "execute_result"
    }
   ],
   "source": [
    "jupyterlab_omnisci.OmniSciSQLEditorRenderer(omnisci_cli)"
   ]
  },
  {
   "cell_type": "markdown",
   "metadata": {},
   "source": [
    "That gave us a blank canvas for getting data from the database. However, it can be nice to start from an ibis expreesion and then vary it from there. To do that, we can give an expression as the second argument for the `OmniSciSQLEditorRenderer`:"
   ]
  },
  {
   "cell_type": "code",
   "execution_count": 11,
   "metadata": {
    "execution": {
     "iopub.execute_input": "2020-08-31T18:28:29.564716Z",
     "iopub.status.busy": "2020-08-31T18:28:29.564400Z",
     "iopub.status.idle": "2020-08-31T18:28:32.270014Z",
     "shell.execute_reply": "2020-08-31T18:28:32.269311Z",
     "shell.execute_reply.started": "2020-08-31T18:28:29.564682Z"
    }
   },
   "outputs": [
    {
     "data": {
      "application/vnd.omnisci.sqleditor+json": {
       "connection": {
        "host": "metis.mapd.com",
        "port": 443,
        "protocol": "https"
       },
       "query": "SELECT \"goog_x\" AS x, \"goog_y\" AS y, \"tweet_id\" AS rowid\nFROM tweets_nov_feb",
       "sessionId": "RrIYqnCrbCIXKDGLGOmPiK2TxUFRhcV1"
      },
      "text/plain": [
       "<jupyterlab_omnisci.magics.OmniSciSQLEditorRenderer at 0x7fdb503b2b90>"
      ]
     },
     "execution_count": 11,
     "metadata": {},
     "output_type": "execute_result"
    }
   ],
   "source": [
    "table = omnisci_cli.table('tweets_nov_feb')\n",
    "expr = table[table.goog_x.name('x'), table.goog_y.name('y'), table.tweet_id.name('rowid')]\n",
    "\n",
    "jupyterlab_omnisci.OmniSciSQLEditorRenderer(omnisci_cli, expr)"
   ]
  },
  {
   "cell_type": "code",
   "execution_count": null,
   "metadata": {},
   "outputs": [],
   "source": []
  }
 ],
 "metadata": {
  "kernelspec": {
   "display_name": "Python 3",
   "language": "python",
   "name": "python3"
  },
  "language_info": {
   "codemirror_mode": {
    "name": "ipython",
    "version": 3
   },
   "file_extension": ".py",
   "mimetype": "text/x-python",
   "name": "python",
   "nbconvert_exporter": "python",
   "pygments_lexer": "ipython3",
   "version": "3.7.8"
  }
 },
 "nbformat": 4,
 "nbformat_minor": 4
}
