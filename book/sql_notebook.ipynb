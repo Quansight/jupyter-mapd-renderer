{
 "cells": [
  {
   "cell_type": "markdown",
   "metadata": {},
   "source": [
    "# Notebook SQL Editor\n",
    "\n",
    "Ibis is a great tool for abtracting SQL queries, and for more programmatic query generation. However, there are times when it is still useful to quickly test raw SQL. Fortunately, we can use an ibis connection and some display magics to accomplish this.\n",
    "\n",
    "First, we make the relevant imports:"
   ]
  },
  {
   "cell_type": "code",
   "execution_count": 1,
   "metadata": {
    "execution": {
     "iopub.execute_input": "2020-08-31T18:46:46.663053Z",
     "iopub.status.busy": "2020-08-31T18:46:46.662855Z",
     "iopub.status.idle": "2020-08-31T18:46:47.536107Z",
     "shell.execute_reply": "2020-08-31T18:46:47.535591Z",
     "shell.execute_reply.started": "2020-08-31T18:46:46.663019Z"
    }
   },
   "outputs": [],
   "source": [
    "import ibis\n",
    "import jupyterlab_omnisci"
   ]
  },
  {
   "cell_type": "markdown",
   "metadata": {},
   "source": [
    "Now we make a connection to the database:"
   ]
  },
  {
   "cell_type": "code",
   "execution_count": 2,
   "metadata": {
    "execution": {
     "iopub.execute_input": "2020-08-31T18:46:47.537293Z",
     "iopub.status.busy": "2020-08-31T18:46:47.537153Z",
     "iopub.status.idle": "2020-08-31T18:46:50.542090Z",
     "shell.execute_reply": "2020-08-31T18:46:50.541590Z",
     "shell.execute_reply.started": "2020-08-31T18:46:47.537276Z"
    }
   },
   "outputs": [],
   "source": [
    "omnisci_cli = ibis.omniscidb.connect(\n",
    "    host='metis.mapd.com', user='mapd', password='HyperInteractive',\n",
    "    port=443, database='mapd', protocol= 'https'\n",
    ")"
   ]
  },
  {
   "cell_type": "markdown",
   "metadata": {},
   "source": [
    "And verify that the connection worked"
   ]
  },
  {
   "cell_type": "code",
   "execution_count": 3,
   "metadata": {
    "execution": {
     "iopub.execute_input": "2020-08-31T18:46:50.543588Z",
     "iopub.status.busy": "2020-08-31T18:46:50.543421Z",
     "iopub.status.idle": "2020-08-31T18:46:51.900215Z",
     "shell.execute_reply": "2020-08-31T18:46:51.899681Z",
     "shell.execute_reply.started": "2020-08-31T18:46:50.543568Z"
    }
   },
   "outputs": [
    {
     "data": {
      "text/plain": [
       "['flights_donotmodify',\n",
       " 'contributions_donotmodify',\n",
       " 'tweets_nov_feb',\n",
       " 'zipcodes_orig',\n",
       " 'zipcodes',\n",
       " 'demo_vote_clean',\n",
       " 'us_faults',\n",
       " 'zipcodes_2017',\n",
       " 'us_county_level_tiger_edges_2018',\n",
       " 'ca_roads_tiger',\n",
       " 'input_node',\n",
       " 'uk_wells',\n",
       " 'RentalListings']"
      ]
     },
     "execution_count": 3,
     "metadata": {},
     "output_type": "execute_result"
    }
   ],
   "source": [
    "omnisci_cli.list_tables()"
   ]
  },
  {
   "cell_type": "markdown",
   "metadata": {},
   "source": [
    "Let's create a SQL editor from this client:"
   ]
  },
  {
   "cell_type": "code",
   "execution_count": 10,
   "metadata": {
    "execution": {
     "iopub.execute_input": "2020-08-31T18:28:29.559173Z",
     "iopub.status.busy": "2020-08-31T18:28:29.558942Z",
     "iopub.status.idle": "2020-08-31T18:28:29.562949Z",
     "shell.execute_reply": "2020-08-31T18:28:29.562300Z",
     "shell.execute_reply.started": "2020-08-31T18:28:29.559140Z"
    }
   },
   "outputs": [
    {
     "data": {
      "application/vnd.omnisci.sqleditor+json": {
       "connection": {
        "host": "metis.mapd.com",
        "port": 443,
        "protocol": "https"
       },
       "query": "",
       "sessionId": "RrIYqnCrbCIXKDGLGOmPiK2TxUFRhcV1"
      },
      "text/plain": [
       "<jupyterlab_omnisci.magics.OmniSciSQLEditorRenderer at 0x7fdb7025a590>"
      ]
     },
     "execution_count": 10,
     "metadata": {},
     "output_type": "execute_result"
    }
   ],
   "source": [
    "jupyterlab_omnisci.OmniSciSQLEditorRenderer(omnisci_cli)"
   ]
  },
  {
   "cell_type": "markdown",
   "metadata": {},
   "source": [
    "That gave us a blank canvas for getting data from the database. However, it can be nice to start from an ibis expreesion and then vary it from there. To do that, we can give an expression as the second argument for the `OmniSciSQLEditorRenderer`:"
   ]
  },
  {
   "cell_type": "code",
   "execution_count": 4,
   "metadata": {
    "execution": {
     "iopub.execute_input": "2020-08-31T18:46:51.901824Z",
     "iopub.status.busy": "2020-08-31T18:46:51.901606Z",
     "iopub.status.idle": "2020-08-31T18:46:54.669780Z",
     "shell.execute_reply": "2020-08-31T18:46:54.669223Z",
     "shell.execute_reply.started": "2020-08-31T18:46:51.901801Z"
    }
   },
   "outputs": [
    {
     "data": {
      "application/vnd.omnisci.sqleditor+json": {
       "connection": {
        "host": "metis.mapd.com",
        "port": 443,
        "protocol": "https"
       },
       "query": "SELECT \"goog_x\" AS x, \"goog_y\" AS y, \"tweet_id\" AS rowid\nFROM tweets_nov_feb",
       "sessionId": "G6KGIQQdst25Xda9RSPA8pHRFBuhdrRT"
      },
      "text/plain": [
       "<jupyterlab_omnisci.magics.OmniSciSQLEditorRenderer at 0x7fd009295b50>"
      ]
     },
     "execution_count": 4,
     "metadata": {},
     "output_type": "execute_result"
    }
   ],
   "source": [
    "table = omnisci_cli.table('tweets_nov_feb')\n",
    "expr = table[table.goog_x.name('x'), table.goog_y.name('y'), table.tweet_id.name('rowid')]\n",
    "\n",
    "jupyterlab_omnisci.OmniSciSQLEditorRenderer(omnisci_cli, expr)"
   ]
  },
  {
   "cell_type": "markdown",
   "metadata": {
    "execution": {
     "iopub.execute_input": "2020-08-31T18:47:29.553458Z",
     "iopub.status.busy": "2020-08-31T18:47:29.553275Z",
     "iopub.status.idle": "2020-08-31T18:47:29.696983Z",
     "shell.execute_reply": "2020-08-31T18:47:29.696418Z",
     "shell.execute_reply.started": "2020-08-31T18:47:29.553425Z"
    }
   },
   "source": [
    "Since Jupyter Book cannot render this output, this is a screenshot of how it looks in JupyterLab:\n",
    "\n",
    "![](./notebook_editor.png)"
   ]
  },
  {
   "cell_type": "code",
   "execution_count": null,
   "metadata": {},
   "outputs": [],
   "source": []
  }
 ],
 "metadata": {
  "kernelspec": {
   "display_name": "Python 3",
   "language": "python",
   "name": "python3"
  },
  "language_info": {
   "codemirror_mode": {
    "name": "ipython",
    "version": 3
   },
   "file_extension": ".py",
   "mimetype": "text/x-python",
   "name": "python",
   "nbconvert_exporter": "python",
   "pygments_lexer": "ipython3",
   "version": "3.7.8"
  }
 },
 "nbformat": 4,
 "nbformat_minor": 4
}
