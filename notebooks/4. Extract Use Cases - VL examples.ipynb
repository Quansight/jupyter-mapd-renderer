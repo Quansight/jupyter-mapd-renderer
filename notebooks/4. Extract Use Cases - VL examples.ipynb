{
 "cells": [
  {
   "cell_type": "code",
   "execution_count": 1,
   "metadata": {},
   "outputs": [
    {
     "data": {
      "text/html": [
       "<style>\n",
       ".input .input_area, .nbinput .input_area {\n",
       "    text-decoration: line-through wavy;    \n",
       "    font-weight: bold;\n",
       "\n",
       "}\n",
       ".input:hover .input_area, .nbinput:hover .input_area {\n",
       "    text-decoration: none;\n",
       "    font-weight: normal;\n",
       "}\n",
       "</style>"
      ],
      "text/plain": [
       "<IPython.core.display.HTML object>"
      ]
     },
     "metadata": {},
     "output_type": "display_data"
    },
    {
     "data": {
      "text/html": [
       "<pre><code>%reload_ext pidgin\n",
       "</code></pre>"
      ],
      "text/markdown": [
       "    %reload_ext pidgin"
      ],
      "text/plain": [
       "'    %reload_ext pidgin'"
      ]
     },
     "metadata": {},
     "output_type": "display_data"
    }
   ],
   "source": [
    "    %reload_ext pidgin"
   ]
  },
  {
   "cell_type": "markdown",
   "metadata": {},
   "source": [
    "## Current\n",
    "\n",
    "Working on the __November__ progress which we plan to discuss next week.\n",
    "\n",
    "This week we will review the work in VegaLite and the UDF research."
   ]
  },
  {
   "cell_type": "code",
   "execution_count": 2,
   "metadata": {},
   "outputs": [
    {
     "data": {
      "text/html": [
       "<h1>Extracting Vega Lite Transformations</h1>"
      ],
      "text/markdown": [
       "# Extracting Vega Lite Transformations"
      ],
      "text/plain": [
       "'# Extracting Vega Lite Transformations'"
      ]
     },
     "metadata": {},
     "output_type": "display_data"
    }
   ],
   "source": [
    "# Extracting Vega Lite Transformations"
   ]
  },
  {
   "cell_type": "code",
   "execution_count": 3,
   "metadata": {},
   "outputs": [
    {
     "data": {
      "text/html": [
       "<svg width=\"1283pt\" height=\"183pt\"\r\n",
       " viewBox=\"0.00 0.00 1282.84 183.00\" xmlns=\"http://www.w3.org/2000/svg\" >\r\n",
       "<g id=\"graph0\" class=\"graph\" transform=\"scale(1 1) rotate(0) translate(4 179)\">\r\n",
       "<title>%3</title>\r\n",
       "<polygon fill=\"white\" stroke=\"none\" points=\"-4,4 -4,-179 1278.84,-179 1278.84,4 -4,4\"/>\r\n",
       "<g id=\"clust1\" class=\"cluster\"><title>cluster_js</title>\r\n",
       "<polygon fill=\"none\" stroke=\"black\" points=\"8,-92 8,-167 604.258,-167 604.258,-92 8,-92\"/>\r\n",
       "<text text-anchor=\"middle\" x=\"306.129\" y=\"-151.8\" font-family=\"Times New Roman,serif\" font-size=\"14.00\">JS</text>\r\n",
       "</g>\r\n",
       "<!-- VegaLite -->\r\n",
       "<g id=\"node1\" class=\"node\"><title>VegaLite</title>\r\n",
       "<ellipse fill=\"none\" stroke=\"black\" cx=\"58.8962\" cy=\"-118\" rx=\"42.7926\" ry=\"18\"/>\r\n",
       "<text text-anchor=\"middle\" x=\"58.8962\" y=\"-114.3\" font-family=\"Times New Roman,serif\" font-size=\"14.00\">VegaLite</text>\r\n",
       "</g>\r\n",
       "<!-- JupyterComms -->\r\n",
       "<g id=\"node2\" class=\"node\"><title>JupyterComms</title>\r\n",
       "<ellipse fill=\"none\" stroke=\"black\" cx=\"204.437\" cy=\"-118\" rx=\"65.7887\" ry=\"18\"/>\r\n",
       "<text text-anchor=\"middle\" x=\"204.437\" y=\"-114.3\" font-family=\"Times New Roman,serif\" font-size=\"14.00\">JupyterComms</text>\r\n",
       "</g>\r\n",
       "<!-- VegaLite&#45;&gt;JupyterComms -->\r\n",
       "<g id=\"edge1\" class=\"edge\"><title>VegaLite&#45;&gt;JupyterComms</title>\r\n",
       "<path fill=\"none\" stroke=\"black\" d=\"M101.8,-118C110.308,-118 119.497,-118 128.751,-118\"/>\r\n",
       "<polygon fill=\"black\" stroke=\"black\" points=\"128.789,-121.5 138.788,-118 128.788,-114.5 128.789,-121.5\"/>\r\n",
       "</g>\r\n",
       "<!-- ExtractTransform -->\r\n",
       "<g id=\"node3\" class=\"node\"><title>ExtractTransform</title>\r\n",
       "<ellipse fill=\"none\" stroke=\"black\" cx=\"382.474\" cy=\"-118\" rx=\"75.2868\" ry=\"18\"/>\r\n",
       "<text text-anchor=\"middle\" x=\"382.474\" y=\"-114.3\" font-family=\"Times New Roman,serif\" font-size=\"14.00\">ExtractTransform</text>\r\n",
       "</g>\r\n",
       "<!-- JupyterComms&#45;&gt;ExtractTransform -->\r\n",
       "<g id=\"edge2\" class=\"edge\"><title>JupyterComms&#45;&gt;ExtractTransform</title>\r\n",
       "<path fill=\"none\" stroke=\"black\" d=\"M270.486,-118C279.004,-118 287.831,-118 296.615,-118\"/>\r\n",
       "<polygon fill=\"black\" stroke=\"black\" points=\"296.887,-121.5 306.887,-118 296.887,-114.5 296.887,-121.5\"/>\r\n",
       "</g>\r\n",
       "<!-- FrontEnd -->\r\n",
       "<g id=\"node4\" class=\"node\"><title>FrontEnd</title>\r\n",
       "<ellipse fill=\"none\" stroke=\"black\" cx=\"550.762\" cy=\"-118\" rx=\"45.4919\" ry=\"18\"/>\r\n",
       "<text text-anchor=\"middle\" x=\"550.762\" y=\"-114.3\" font-family=\"Times New Roman,serif\" font-size=\"14.00\">FrontEnd</text>\r\n",
       "</g>\r\n",
       "<!-- ExtractTransform&#45;&gt;FrontEnd -->\r\n",
       "<g id=\"edge3\" class=\"edge\"><title>ExtractTransform&#45;&gt;FrontEnd</title>\r\n",
       "<path fill=\"none\" stroke=\"black\" d=\"M458.348,-118C470.617,-118 483.127,-118 494.798,-118\"/>\r\n",
       "<polygon fill=\"black\" stroke=\"black\" points=\"494.81,-121.5 504.81,-118 494.81,-114.5 494.81,-121.5\"/>\r\n",
       "</g>\r\n",
       "<!-- UpdatedVegaLite -->\r\n",
       "<g id=\"node8\" class=\"node\"><title>UpdatedVegaLite</title>\r\n",
       "<ellipse fill=\"none\" stroke=\"black\" cx=\"382.474\" cy=\"-46\" rx=\"74.187\" ry=\"18\"/>\r\n",
       "<text text-anchor=\"middle\" x=\"382.474\" y=\"-42.3\" font-family=\"Times New Roman,serif\" font-size=\"14.00\">UpdatedVegaLite</text>\r\n",
       "</g>\r\n",
       "<!-- ExtractTransform&#45;&gt;UpdatedVegaLite -->\r\n",
       "<g id=\"edge6\" class=\"edge\"><title>ExtractTransform&#45;&gt;UpdatedVegaLite</title>\r\n",
       "<path fill=\"none\" stroke=\"black\" d=\"M382.474,-99.8594C382.474,-91.2681 382.474,-82.6768 382.474,-74.0854\"/>\r\n",
       "<polygon fill=\"black\" stroke=\"black\" points=\"385.974,-74 382.474,-64 378.974,-74 385.974,-74\"/>\r\n",
       "</g>\r\n",
       "<!-- Ibis -->\r\n",
       "<g id=\"node5\" class=\"node\"><title>Ibis</title>\r\n",
       "<ellipse fill=\"none\" stroke=\"black\" cx=\"670.657\" cy=\"-46\" rx=\"27\" ry=\"18\"/>\r\n",
       "<text text-anchor=\"middle\" x=\"670.657\" y=\"-42.3\" font-family=\"Times New Roman,serif\" font-size=\"14.00\">Ibis</text>\r\n",
       "</g>\r\n",
       "<!-- DataFrame -->\r\n",
       "<g id=\"node6\" class=\"node\"><title>DataFrame</title>\r\n",
       "<ellipse fill=\"none\" stroke=\"black\" cx=\"1000.7\" cy=\"-46\" rx=\"50.0912\" ry=\"18\"/>\r\n",
       "<text text-anchor=\"middle\" x=\"1000.7\" y=\"-42.3\" font-family=\"Times New Roman,serif\" font-size=\"14.00\">DataFrame</text>\r\n",
       "</g>\r\n",
       "<!-- Ibis&#45;&gt;DataFrame -->\r\n",
       "<g id=\"edge4\" class=\"edge\"><title>Ibis&#45;&gt;DataFrame</title>\r\n",
       "<path fill=\"none\" stroke=\"black\" d=\"M697.673,-46C749.743,-46 867.951,-46 940.075,-46\"/>\r\n",
       "<polygon fill=\"black\" stroke=\"black\" points=\"940.369,-49.5001 950.369,-46 940.369,-42.5001 940.369,-49.5001\"/>\r\n",
       "<text text-anchor=\"middle\" x=\"824.157\" y=\"-49.8\" font-family=\"Times New Roman,serif\" font-size=\"14.00\">Empty DataFrame for type information</text>\r\n",
       "</g>\r\n",
       "<!-- Altair -->\r\n",
       "<g id=\"node7\" class=\"node\"><title>Altair</title>\r\n",
       "<ellipse fill=\"none\" stroke=\"black\" cx=\"1244.3\" cy=\"-19\" rx=\"30.5947\" ry=\"18\"/>\r\n",
       "<text text-anchor=\"middle\" x=\"1244.3\" y=\"-15.3\" font-family=\"Times New Roman,serif\" font-size=\"14.00\">Altair</text>\r\n",
       "</g>\r\n",
       "<!-- DataFrame&#45;&gt;Altair -->\r\n",
       "<g id=\"edge5\" class=\"edge\"><title>DataFrame&#45;&gt;Altair</title>\r\n",
       "<path fill=\"none\" stroke=\"black\" d=\"M1048.86,-40.73C1094.15,-35.6686 1161.77,-28.1113 1204.16,-23.3738\"/>\r\n",
       "<polygon fill=\"black\" stroke=\"black\" points=\"1204.55,-26.8515 1214.1,-22.2624 1203.78,-19.8948 1204.55,-26.8515\"/>\r\n",
       "<text text-anchor=\"middle\" x=\"1132.25\" y=\"-42.8\" font-family=\"Times New Roman,serif\" font-size=\"14.00\">Compose visualization</text>\r\n",
       "</g>\r\n",
       "<!-- Altair&#45;&gt;VegaLite -->\r\n",
       "<g id=\"edge10\" class=\"edge\"><title>Altair&#45;&gt;VegaLite</title>\r\n",
       "<path fill=\"none\" stroke=\"black\" d=\"M1214.35,-15.2462C1169.07,-9.70903 1078.7,-0 1001.7,-0 203.437,-0 203.437,-0 203.437,-0 145.986,-0 99.0034,-57.1033 75.7264,-91.8623\"/>\r\n",
       "<polygon fill=\"black\" stroke=\"black\" points=\"72.5712,-90.2949 70.0635,-100.589 78.4431,-94.1054 72.5712,-90.2949\"/>\r\n",
       "</g>\r\n",
       "<!-- UpdatedVegaLite&#45;&gt;FrontEnd -->\r\n",
       "<g id=\"edge7\" class=\"edge\"><title>UpdatedVegaLite&#45;&gt;FrontEnd</title>\r\n",
       "<path fill=\"none\" stroke=\"black\" d=\"M419.556,-61.6229C446.215,-73.1659 482.5,-88.8765 509.995,-100.781\"/>\r\n",
       "<polygon fill=\"black\" stroke=\"black\" points=\"508.756,-104.059 519.323,-104.82 511.537,-97.635 508.756,-104.059\"/>\r\n",
       "</g>\r\n",
       "<!-- UpdatedIbis -->\r\n",
       "<g id=\"node9\" class=\"node\"><title>UpdatedIbis</title>\r\n",
       "<ellipse fill=\"none\" stroke=\"black\" cx=\"550.762\" cy=\"-46\" rx=\"55.7903\" ry=\"18\"/>\r\n",
       "<text text-anchor=\"middle\" x=\"550.762\" y=\"-42.3\" font-family=\"Times New Roman,serif\" font-size=\"14.00\">UpdatedIbis</text>\r\n",
       "</g>\r\n",
       "<!-- UpdatedVegaLite&#45;&gt;UpdatedIbis -->\r\n",
       "<g id=\"edge8\" class=\"edge\"><title>UpdatedVegaLite&#45;&gt;UpdatedIbis</title>\r\n",
       "<path fill=\"none\" stroke=\"black\" d=\"M456.895,-46C466.124,-46 475.515,-46 484.605,-46\"/>\r\n",
       "<polygon fill=\"black\" stroke=\"black\" points=\"484.716,-49.5001 494.716,-46 484.715,-42.5001 484.716,-49.5001\"/>\r\n",
       "</g>\r\n",
       "<!-- UpdatedIbis&#45;&gt;Ibis -->\r\n",
       "<g id=\"edge9\" class=\"edge\"><title>UpdatedIbis&#45;&gt;Ibis</title>\r\n",
       "<path fill=\"none\" stroke=\"black\" d=\"M606.913,-46C615.846,-46 624.896,-46 633.237,-46\"/>\r\n",
       "<polygon fill=\"black\" stroke=\"black\" points=\"633.362,-49.5001 643.362,-46 633.362,-42.5001 633.362,-49.5001\"/>\r\n",
       "</g>\r\n",
       "</g>\r\n",
       "</svg>\r\n"
      ],
      "text/plain": [
       "'digraph {\\n    rankdir=LR\\n    subgraph cluster_js{label=JS VegaLite->JupyterComms->ExtractTransform->FrontEnd }\\n    Ibis->DataFrame[label=\"Empty DataFrame for type information\"]\\n    DataFrame->Altair[label=\"Compose visualization\"]\\n    ExtractTransform->UpdatedVegaLite->{FrontEnd UpdatedIbis}\\n    UpdatedIbis->Ibis\\n    Altair->VegaLite\\n    VegaLite\\n}'"
      ]
     },
     "metadata": {},
     "output_type": "display_data"
    }
   ],
   "source": [
    "digraph {\n",
    "    rankdir=LR\n",
    "    subgraph cluster_js{label=JS VegaLite->JupyterComms->ExtractTransform->FrontEnd }\n",
    "    Ibis->DataFrame[label=\"Empty DataFrame for type information\"]\n",
    "    DataFrame->Altair[label=\"Compose visualization\"]\n",
    "    ExtractTransform->UpdatedVegaLite->{FrontEnd UpdatedIbis}\n",
    "    UpdatedIbis->Ibis\n",
    "    Altair->VegaLite\n",
    "    VegaLite\n",
    "}"
   ]
  },
  {
   "cell_type": "code",
   "execution_count": 4,
   "metadata": {},
   "outputs": [
    {
     "data": {
      "text/html": [
       "<h2>Omnisci UDFs</h2>\n",
       "<ul>\n",
       "<li><a href=\"https://docs.google.com/document/d/1iqG9gxa-baolsqt5U7T9OLhqFdNj5Ar8PDbFmG6Gscg/edit\">https://docs.google.com/document/d/1iqG9gxa-baolsqt5U7T9OLhqFdNj5Ar8PDbFmG6Gscg/edit</a></li>\n",
       "<li><a href=\"https://github.com/omnisci/mapd-core/pull/290/files\">https://github.com/omnisci/mapd-core/pull/290/files</a></li>\n",
       "</ul>"
      ],
      "text/markdown": [
       "## Omnisci UDFs\n",
       "\n",
       "* https://docs.google.com/document/d/1iqG9gxa-baolsqt5U7T9OLhqFdNj5Ar8PDbFmG6Gscg/edit\n",
       "* https://github.com/omnisci/mapd-core/pull/290/files"
      ],
      "text/plain": [
       "'## Omnisci UDFs\\n\\n* https://docs.google.com/document/d/1iqG9gxa-baolsqt5U7T9OLhqFdNj5Ar8PDbFmG6Gscg/edit\\n* https://github.com/omnisci/mapd-core/pull/290/files'"
      ]
     },
     "metadata": {},
     "output_type": "display_data"
    }
   ],
   "source": [
    "## Omnisci UDFs\n",
    "\n",
    "* https://docs.google.com/document/d/1iqG9gxa-baolsqt5U7T9OLhqFdNj5Ar8PDbFmG6Gscg/edit\n",
    "* https://github.com/omnisci/mapd-core/pull/290/files"
   ]
  },
  {
   "cell_type": "code",
   "execution_count": 5,
   "metadata": {},
   "outputs": [
    {
     "name": "stdout",
     "output_type": "stream",
     "text": [
      "\"\"\"Examples of mapd UDFs - a prototype\n",
      "\n",
      "To run this script, the remotedict and mapd_server services must be up\n",
      "and running. For example:\n",
      "\n",
      "# In terminal 1, run\n",
      "python /path/to/git/mapd-core/python/remotedict_server.py\n",
      "# in terminal 2, run\n",
      "export PYTHONPATH=/path/to/git/mapd-core/python\n",
      "/path/to/bin/mapd_server\n",
      "# in terminal 3, run\n",
      "export PYTHONPATH=/path/to/git/mapd-core/python\n",
      "\n",
      "# first time, numba.cfunc is applied to udf-s, may take more time\n",
      "\n",
      "python /path/to/git/mapd-core/python/example1.py \n",
      "\n",
      "Executing query=`SELECT dest_merc_y FROM flights_2008_10k`\n",
      "        elapsed time first time= 0.8853063583374023\n",
      "        elapsed time second time= 0.0868997573852539\n",
      "Executing query=`SELECT pyudf_d_d(-4142173805074969890, dest_merc_y) FROM flights_2008_10k`\n",
      "        elapsed time first time= 0.5644011497497559\n",
      "        elapsed time second time= 0.07272768020629883\n",
      "Executing query=`SELECT dest_merc_y, dest_merc_y FROM flights_2008_10k`\n",
      "        elapsed time first time= 0.1111757755279541\n",
      "        elapsed time second time= 0.11226892471313477\n",
      "Executing query=`SELECT pyudf_dd_d(6619462698129493568, dest_merc_x, dest_merc_y) FROM flights_2008_10k`\n",
      "        elapsed time first time= 0.14680194854736328\n",
      "        elapsed time second time= 0.07012128829956055\n",
      "Executing query=`SELECT dest_merc_y, dest_merc_y, dest_merc_y FROM flights_2008_10k`\n",
      "        elapsed time first time= 0.14289331436157227\n",
      "        elapsed time second time= 0.1433720588684082\n",
      "Executing query=`SELECT pyudf_ddd_d(-5018962639790206958, dest_merc_x, dest_merc_y, dest_merc_x) FROM flights_2008_10k LIMIT 3`\n",
      "        elapsed time first time= 0.09775400161743164\n",
      "        elapsed time second time= 0.02623295783996582\n",
      "\n",
      "# second time, compiled machine code is used\n",
      "\n",
      "python /path/to/git/mapd-core/python/example1.py \n",
      "\n",
      "Executing query=`SELECT dest_merc_y FROM flights_2008_10k`\n",
      "        elapsed time first time= 0.06926894187927246\n",
      "        elapsed time second time= 0.0670166015625\n",
      "Executing query=`SELECT pyudf_d_d(-4142173805074969890, dest_merc_y) FROM flights_2008_10k`\n",
      "        elapsed time first time= 0.06582880020141602\n",
      "        elapsed time second time= 0.07201480865478516\n",
      "Executing query=`SELECT dest_merc_y, dest_merc_y FROM flights_2008_10k`\n",
      "        elapsed time first time= 0.1017143726348877\n",
      "        elapsed time second time= 0.1010138988494873\n",
      "Executing query=`SELECT pyudf_dd_d(6619462698129493568, dest_merc_x, dest_merc_y) FROM flights_2008_10k`\n",
      "        elapsed time first time= 0.06723594665527344\n",
      "        elapsed time second time= 0.06605696678161621\n",
      "Executing query=`SELECT dest_merc_y, dest_merc_y, dest_merc_y FROM flights_2008_10k`\n",
      "        elapsed time first time= 0.13908123970031738\n",
      "        elapsed time second time= 0.14016366004943848\n",
      "Executing query=`SELECT pyudf_ddd_d(-5018962639790206958, dest_merc_x, dest_merc_y, dest_merc_x) FROM flights_2008_10k LIMIT 3`\n",
      "        elapsed time first time= 0.027436256408691406\n",
      "        elapsed time second time= 0.030214548110961914\n",
      "\n",
      "\"\"\"\n",
      "\n",
      "import sys\n",
      "import numba\n",
      "import numpy\n",
      "import time\n",
      "\n",
      "import pymapd\n",
      "from mapd_udf import mapd\n",
      "con = pymapd.connect(user=\"mapd\", password= \"HyperInteractive\", host=\"localhost\", dbname=\"mapd\")\n",
      "c = con.cursor()\n",
      "\n",
      "@mapd()\n",
      "def myudf(x):\n",
      "    return x+2\n",
      "\n",
      "@mapd()\n",
      "def myudf2(x,y):\n",
      "    return (x**2+y**2)**0.5\n",
      "\n",
      "@mapd()\n",
      "def myudf3(x,y,z):\n",
      "    return (x**2+y**2+z**2)**0.5\n",
      "\n",
      "for query in [\n",
      "        f\"SELECT dest_merc_y FROM flights_2008_10k\",\n",
      "        f\"SELECT {myudf('dest_merc_y')} FROM flights_2008_10k\",\n",
      "        f\"SELECT dest_merc_y, dest_merc_y FROM flights_2008_10k\",\n",
      "        f\"SELECT {myudf2('dest_merc_x', 'dest_merc_y')} FROM flights_2008_10k\",\n",
      "        f\"SELECT dest_merc_y, dest_merc_y, dest_merc_y FROM flights_2008_10k\",\n",
      "        f\"SELECT {myudf3('dest_merc_x', 'dest_merc_y', 'dest_merc_x')} FROM flights_2008_10k LIMIT 3\",\n",
      "]:\n",
      "    print(f'Executing query=`{query}`')\n",
      "\n",
      "    start = time.time()\n",
      "    c.execute(query)\n",
      "    print('\\telapsed time first time=', time.time() - start)\n",
      "\n",
      "    start = time.time()\n",
      "    c.execute(query)\n",
      "    print('\\telapsed time second time=', time.time() - start)\n",
      "    #print(list(c))\n"
     ]
    },
    {
     "data": {
      "text/html": [
       "<pre><code>!more \"../../mapd-core/python/example1.py\"\n",
       "</code></pre>"
      ],
      "text/markdown": [
       "    !more \"../../mapd-core/python/example1.py\""
      ],
      "text/plain": [
       "'    !more \"../../mapd-core/python/example1.py\"'"
      ]
     },
     "metadata": {},
     "output_type": "display_data"
    }
   ],
   "source": [
    "    !more \"../../mapd-core/python/example1.py\""
   ]
  },
  {
   "cell_type": "markdown",
   "metadata": {},
   "source": [
    "# Extracting Vega Lite Transformations\n",
    "\n",
    "In this notebook, I will show some use cases for extracting out the [transformations](https://vega.github.io/vega-lite/docs/transform.html) in a Vega Lite spec and moving their computation to the MapD database from the client. \n",
    "\n",
    "To demonstrate this functionality, we recreate the examples the Vega Lite team used to demonstrate this feature: https://vega.github.io/vega-lite-transforms2sql/\n"
   ]
  },
  {
   "cell_type": "markdown",
   "metadata": {},
   "source": [
    "## Install\n",
    "\n",
    "First, we have to install the `omnisci_renderer` package, as well as altair, ibis and the MapD client. We need to install a development branch of ibis until https://github.com/ibis-project/ibis/pull/1675 is released."
   ]
  },
  {
   "cell_type": "code",
   "execution_count": 6,
   "metadata": {},
   "outputs": [
    {
     "name": "stderr",
     "output_type": "stream",
     "text": [
      "C:\\Anaconda3\\lib\\site-packages\\ibis\\sql\\postgres\\compiler.py:223: UserWarning: locale specific date formats (%c, %x, %X) are not yet implemented for Windows\n",
      "  'for %s' % platform.system()\n"
     ]
    },
    {
     "data": {
      "text/html": [
       "<pre><code>import altair as alt\n",
       "import ibis\n",
       "import omnisci_renderer\n",
       "</code></pre>"
      ],
      "text/markdown": [
       "    import altair as alt\n",
       "    import ibis\n",
       "    import omnisci_renderer"
      ],
      "text/plain": [
       "'    import altair as alt\\n    import ibis\\n    import omnisci_renderer'"
      ]
     },
     "metadata": {},
     "output_type": "display_data"
    }
   ],
   "source": [
    "    import altair as alt\n",
    "    import ibis\n",
    "    import omnisci_renderer"
   ]
  },
  {
   "cell_type": "markdown",
   "metadata": {},
   "source": [
    "## Carrier names\n",
    "\n",
    "Let's recreate the first example, counting the carrier names.\n",
    "\n",
    "First we connect to thte table using Ibis:"
   ]
  },
  {
   "cell_type": "code",
   "execution_count": 7,
   "metadata": {},
   "outputs": [
    {
     "data": {
      "text/html": [
       "<pre><code>conn = ibis.mapd.connect(\n",
       "    host='metis.mapd.com', user='mapd', password='HyperInteractive',\n",
       "    port=443, database='mapd', protocol= 'https'\n",
       ")\n",
       "t = conn.table(\"flights_donotmodify\")\n",
       "</code></pre>"
      ],
      "text/markdown": [
       "    conn = ibis.mapd.connect(\n",
       "        host='metis.mapd.com', user='mapd', password='HyperInteractive',\n",
       "        port=443, database='mapd', protocol= 'https'\n",
       "    )\n",
       "    t = conn.table(\"flights_donotmodify\")"
      ],
      "text/plain": [
       "'    conn = ibis.mapd.connect(\\n        host=\\'metis.mapd.com\\', user=\\'mapd\\', password=\\'HyperInteractive\\',\\n        port=443, database=\\'mapd\\', protocol= \\'https\\'\\n    )\\n    t = conn.table(\"flights_donotmodify\")'"
      ]
     },
     "metadata": {},
     "output_type": "display_data"
    }
   ],
   "source": [
    "    conn = ibis.mapd.connect(\n",
    "        host='metis.mapd.com', user='mapd', password='HyperInteractive',\n",
    "        port=443, database='mapd', protocol= 'https'\n",
    "    )\n",
    "    t = conn.table(\"flights_donotmodify\")"
   ]
  },
  {
   "cell_type": "markdown",
   "metadata": {},
   "source": [
    "Then we compose an Altair chart using an ibis expression."
   ]
  },
  {
   "cell_type": "code",
   "execution_count": 8,
   "metadata": {},
   "outputs": [
    {
     "data": {
      "text/html": [
       "<pre><code>c = alt.Chart(t[t.carrier_name]).mark_bar().encode(\n",
       "    x='carrier_name',\n",
       "    y='count()'\n",
       ")\n",
       "</code></pre>"
      ],
      "text/markdown": [
       "    c = alt.Chart(t[t.carrier_name]).mark_bar().encode(\n",
       "        x='carrier_name',\n",
       "        y='count()'\n",
       "    )"
      ],
      "text/plain": [
       "\"    c = alt.Chart(t[t.carrier_name]).mark_bar().encode(\\n        x='carrier_name',\\n        y='count()'\\n    )\""
      ]
     },
     "metadata": {},
     "output_type": "display_data"
    }
   ],
   "source": [
    "    c = alt.Chart(t[t.carrier_name]).mark_bar().encode(\n",
    "        x='carrier_name',\n",
    "        y='count()'\n",
    "    )"
   ]
  },
  {
   "cell_type": "markdown",
   "metadata": {},
   "source": [
    "Finally, we enable rendering that extracts the aggregate expressions and adds them onto the Ibis expresion:"
   ]
  },
  {
   "cell_type": "code",
   "execution_count": 9,
   "metadata": {},
   "outputs": [
    {
     "name": "stderr",
     "output_type": "stream",
     "text": [
      "C:\\Anaconda3\\lib\\site-packages\\altair\\utils\\core.py:86: UserWarning: I don't know how to infer vegalite type from 'empty'.  Defaulting to nominal.\n",
      "  \"Defaulting to nominal.\".format(typ))\n"
     ]
    },
    {
     "data": {
      "application/vnd.vegalite.v2+json": {
       "data": {
        "values": []
       },
       "mark": "bar"
      },
      "image/png": "[encoded data removed]",
      "text/plain": [
       "<VegaLite 2 object>\n",
       "\n",
       "If you see this message, it means the renderer has not been properly enabled\n",
       "for the frontend that you are using. For more information, see\n",
       "https://altair-viz.github.io/user_guide/troubleshooting.html\n"
      ]
     },
     "metadata": {},
     "output_type": "display_data"
    },
    {
     "data": {
      "text/plain": []
     },
     "execution_count": 9,
     "metadata": {},
     "output_type": "execute_result"
    },
    {
     "data": {
      "text/html": [
       "<pre><code>alt.data_transformers.enable('ibis')\n",
       "alt.renderers.enable(\"extract-ibis\")\n",
       "c\n",
       "</code></pre>"
      ],
      "text/markdown": [
       "    alt.data_transformers.enable('ibis')\n",
       "    alt.renderers.enable(\"extract-ibis\")\n",
       "    c"
      ],
      "text/plain": [
       "'    alt.data_transformers.enable(\\'ibis\\')\\n    alt.renderers.enable(\"extract-ibis\")\\n    c'"
      ]
     },
     "metadata": {},
     "output_type": "display_data"
    }
   ],
   "source": [
    "    alt.data_transformers.enable('ibis')\n",
    "    alt.renderers.enable(\"extract-ibis\")\n",
    "    c"
   ]
  },
  {
   "cell_type": "markdown",
   "metadata": {},
   "source": [
    "## Delay by Month"
   ]
  },
  {
   "cell_type": "code",
   "execution_count": 10,
   "metadata": {},
   "outputs": [
    {
     "data": {
      "application/vnd.vegalite.v2+json": {
       "$schema": "https://vega.github.io/schema/vega-lite/v2.6.0.json",
       "config": {
        "view": {
         "height": 300,
         "width": 400
        }
       },
       "data": {
        "format": {
         "type": "json"
        },
        "url": "altair-data-de8a7b2d39ae9c9241e47d902adf001c.json"
       },
       "encoding": {
        "color": {
         "field": "average_depdelay",
         "title": "Average of depdelay",
         "type": "quantitative"
        },
        "x": {
         "field": "flight_dayofmonth",
         "type": "ordinal"
        },
        "y": {
         "field": "flight_month",
         "type": "ordinal"
        }
       },
       "mark": "rect",
       "transform": [
        {}
       ]
      },
      "image/png": "[encoded data removed]",
      "text/plain": [
       "<VegaLite 2 object>\n",
       "\n",
       "If you see this message, it means the renderer has not been properly enabled\n",
       "for the frontend that you are using. For more information, see\n",
       "https://altair-viz.github.io/user_guide/troubleshooting.html\n"
      ]
     },
     "metadata": {},
     "output_type": "display_data"
    },
    {
     "data": {
      "text/plain": []
     },
     "execution_count": 10,
     "metadata": {},
     "output_type": "execute_result"
    },
    {
     "data": {
      "text/html": [
       "<pre><code>delay_by_month = alt.Chart(t[t.flight_dayofmonth, t.flight_month, t.depdelay]).mark_rect().encode(\n",
       "    x='flight_dayofmonth:O',\n",
       "    y='flight_month:O',\n",
       "    color='average(depdelay)'\n",
       ")\n",
       "delay_by_month\n",
       "</code></pre>"
      ],
      "text/markdown": [
       "    delay_by_month = alt.Chart(t[t.flight_dayofmonth, t.flight_month, t.depdelay]).mark_rect().encode(\n",
       "        x='flight_dayofmonth:O',\n",
       "        y='flight_month:O',\n",
       "        color='average(depdelay)'\n",
       "    )\n",
       "    delay_by_month"
      ],
      "text/plain": [
       "\"    delay_by_month = alt.Chart(t[t.flight_dayofmonth, t.flight_month, t.depdelay]).mark_rect().encode(\\n        x='flight_dayofmonth:O',\\n        y='flight_month:O',\\n        color='average(depdelay)'\\n    )\\n    delay_by_month\""
      ]
     },
     "metadata": {},
     "output_type": "display_data"
    }
   ],
   "source": [
    "    delay_by_month = alt.Chart(t[t.flight_dayofmonth, t.flight_month, t.depdelay]).mark_rect().encode(\n",
    "        x='flight_dayofmonth:O',\n",
    "        y='flight_month:O',\n",
    "        color='average(depdelay)'\n",
    "    )\n",
    "    delay_by_month"
   ]
  },
  {
   "cell_type": "markdown",
   "metadata": {},
   "source": [
    "## Debugging"
   ]
  },
  {
   "cell_type": "markdown",
   "metadata": {},
   "source": [
    "We can use `display_chart` to show some intermediate computatitons for the chart. It does this by enabling different Altair renderers and displaying the chart:"
   ]
  },
  {
   "cell_type": "code",
   "execution_count": 11,
   "metadata": {},
   "outputs": [
    {
     "data": {
      "text/html": [
       "<pre><code>??omnisci_renderer.display_chart\n",
       "</code></pre>"
      ],
      "text/markdown": [
       "    ??omnisci_renderer.display_chart"
      ],
      "text/plain": [
       "'    ??omnisci_renderer.display_chart'"
      ]
     },
     "metadata": {},
     "output_type": "display_data"
    },
    {
     "data": {
      "text/html": [
       "<h1>Signature</h1>\n",
       "<div class=\"highlight\" style=\"background: #f8f8f8\"><pre style=\"line-height: 125%\"><span></span>omnisci_renderer<span style=\"color: #666666\">.</span>display_chart(chart)\n",
       "</pre></div>\n",
       "\n",
       "<h1>Docstring</h1>\n",
       "<pre><no docstring></pre>\n",
       "<h1>Source</h1>\n",
       "<div class=\"highlight\" style=\"background: #f8f8f8\"><pre style=\"line-height: 125%\"><span></span><span style=\"color: #008000; font-weight: bold\">def</span> <span style=\"color: #0000FF\">display_chart</span>(chart):\n",
       "    display(Code(<span style=\"color: #BA2121\">&#39;alt.renderers.enable(&quot;json&quot;)&#39;</span>))\n",
       "    alt<span style=\"color: #666666\">.</span>renderers<span style=\"color: #666666\">.</span>enable(<span style=\"color: #BA2121\">&quot;json&quot;</span>)\n",
       "    display(chart)\n",
       "\n",
       "    display(Code(<span style=\"color: #BA2121\">&#39;alt.renderers.enable(&quot;extract-json&quot;)&#39;</span>))\n",
       "    alt<span style=\"color: #666666\">.</span>renderers<span style=\"color: #666666\">.</span>enable(<span style=\"color: #BA2121\">&quot;extract-json&quot;</span>)\n",
       "    chart<span style=\"color: #666666\">.</span>_repr_mimebundle_(<span style=\"color: #008000\">None</span>, <span style=\"color: #008000\">None</span>)\n",
       "\n",
       "    display(Code(<span style=\"color: #BA2121\">&#39;alt.renderers.enable(&quot;extract-ibis-sql&quot;)&#39;</span>))\n",
       "    alt<span style=\"color: #666666\">.</span>renderers<span style=\"color: #666666\">.</span>enable(<span style=\"color: #BA2121\">&quot;extract-ibis-sql&quot;</span>)\n",
       "    chart<span style=\"color: #666666\">.</span>_repr_mimebundle_(<span style=\"color: #008000\">None</span>, <span style=\"color: #008000\">None</span>)\n",
       "\n",
       "    display(Code(<span style=\"color: #BA2121\">&#39;alt.renderers.enable(&quot;extract-ibis&quot;)&#39;</span>))\n",
       "    alt<span style=\"color: #666666\">.</span>renderers<span style=\"color: #666666\">.</span>enable(<span style=\"color: #BA2121\">&quot;extract-ibis&quot;</span>)\n",
       "    chart<span style=\"color: #666666\">.</span>_repr_mimebundle_(<span style=\"color: #008000\">None</span>, <span style=\"color: #008000\">None</span>)\n",
       "</pre></div>\n",
       "\n",
       "<h1>File</h1>\n",
       "<pre>c:\\users\\deathbeds\\jupyterlab-omnisci\\omnisci_renderer.py</pre>\n",
       "<h1>Type</h1>\n",
       "<pre>function</pre>\n"
      ],
      "text/plain": [
       "\u001b[1;31mSignature:\u001b[0m \u001b[0momnisci_renderer\u001b[0m\u001b[1;33m.\u001b[0m\u001b[0mdisplay_chart\u001b[0m\u001b[1;33m(\u001b[0m\u001b[0mchart\u001b[0m\u001b[1;33m)\u001b[0m\u001b[1;33m\u001b[0m\u001b[0m\n",
       "\u001b[1;31mDocstring:\u001b[0m <no docstring>\n",
       "\u001b[1;31mSource:\u001b[0m   \n",
       "\u001b[1;32mdef\u001b[0m \u001b[0mdisplay_chart\u001b[0m\u001b[1;33m(\u001b[0m\u001b[0mchart\u001b[0m\u001b[1;33m)\u001b[0m\u001b[1;33m:\u001b[0m\u001b[1;33m\n",
       "\u001b[0m    \u001b[0mdisplay\u001b[0m\u001b[1;33m(\u001b[0m\u001b[0mCode\u001b[0m\u001b[1;33m(\u001b[0m\u001b[1;34m'alt.renderers.enable(\"json\")'\u001b[0m\u001b[1;33m)\u001b[0m\u001b[1;33m)\u001b[0m\u001b[1;33m\n",
       "\u001b[0m    \u001b[0malt\u001b[0m\u001b[1;33m.\u001b[0m\u001b[0mrenderers\u001b[0m\u001b[1;33m.\u001b[0m\u001b[0menable\u001b[0m\u001b[1;33m(\u001b[0m\u001b[1;34m\"json\"\u001b[0m\u001b[1;33m)\u001b[0m\u001b[1;33m\n",
       "\u001b[0m    \u001b[0mdisplay\u001b[0m\u001b[1;33m(\u001b[0m\u001b[0mchart\u001b[0m\u001b[1;33m)\u001b[0m\u001b[1;33m\n",
       "\u001b[0m\u001b[1;33m\n",
       "\u001b[0m    \u001b[0mdisplay\u001b[0m\u001b[1;33m(\u001b[0m\u001b[0mCode\u001b[0m\u001b[1;33m(\u001b[0m\u001b[1;34m'alt.renderers.enable(\"extract-json\")'\u001b[0m\u001b[1;33m)\u001b[0m\u001b[1;33m)\u001b[0m\u001b[1;33m\n",
       "\u001b[0m    \u001b[0malt\u001b[0m\u001b[1;33m.\u001b[0m\u001b[0mrenderers\u001b[0m\u001b[1;33m.\u001b[0m\u001b[0menable\u001b[0m\u001b[1;33m(\u001b[0m\u001b[1;34m\"extract-json\"\u001b[0m\u001b[1;33m)\u001b[0m\u001b[1;33m\n",
       "\u001b[0m    \u001b[0mchart\u001b[0m\u001b[1;33m.\u001b[0m\u001b[0m_repr_mimebundle_\u001b[0m\u001b[1;33m(\u001b[0m\u001b[1;32mNone\u001b[0m\u001b[1;33m,\u001b[0m \u001b[1;32mNone\u001b[0m\u001b[1;33m)\u001b[0m\u001b[1;33m\n",
       "\u001b[0m\u001b[1;33m\n",
       "\u001b[0m    \u001b[0mdisplay\u001b[0m\u001b[1;33m(\u001b[0m\u001b[0mCode\u001b[0m\u001b[1;33m(\u001b[0m\u001b[1;34m'alt.renderers.enable(\"extract-ibis-sql\")'\u001b[0m\u001b[1;33m)\u001b[0m\u001b[1;33m)\u001b[0m\u001b[1;33m\n",
       "\u001b[0m    \u001b[0malt\u001b[0m\u001b[1;33m.\u001b[0m\u001b[0mrenderers\u001b[0m\u001b[1;33m.\u001b[0m\u001b[0menable\u001b[0m\u001b[1;33m(\u001b[0m\u001b[1;34m\"extract-ibis-sql\"\u001b[0m\u001b[1;33m)\u001b[0m\u001b[1;33m\n",
       "\u001b[0m    \u001b[0mchart\u001b[0m\u001b[1;33m.\u001b[0m\u001b[0m_repr_mimebundle_\u001b[0m\u001b[1;33m(\u001b[0m\u001b[1;32mNone\u001b[0m\u001b[1;33m,\u001b[0m \u001b[1;32mNone\u001b[0m\u001b[1;33m)\u001b[0m\u001b[1;33m\n",
       "\u001b[0m\u001b[1;33m\n",
       "\u001b[0m    \u001b[0mdisplay\u001b[0m\u001b[1;33m(\u001b[0m\u001b[0mCode\u001b[0m\u001b[1;33m(\u001b[0m\u001b[1;34m'alt.renderers.enable(\"extract-ibis\")'\u001b[0m\u001b[1;33m)\u001b[0m\u001b[1;33m)\u001b[0m\u001b[1;33m\n",
       "\u001b[0m    \u001b[0malt\u001b[0m\u001b[1;33m.\u001b[0m\u001b[0mrenderers\u001b[0m\u001b[1;33m.\u001b[0m\u001b[0menable\u001b[0m\u001b[1;33m(\u001b[0m\u001b[1;34m\"extract-ibis\"\u001b[0m\u001b[1;33m)\u001b[0m\u001b[1;33m\n",
       "\u001b[0m    \u001b[0mchart\u001b[0m\u001b[1;33m.\u001b[0m\u001b[0m_repr_mimebundle_\u001b[0m\u001b[1;33m(\u001b[0m\u001b[1;32mNone\u001b[0m\u001b[1;33m,\u001b[0m \u001b[1;32mNone\u001b[0m\u001b[1;33m)\u001b[0m\u001b[1;33m\u001b[0m\u001b[0m\n",
       "\u001b[1;31mFile:\u001b[0m      c:\\users\\deathbeds\\jupyterlab-omnisci\\omnisci_renderer.py\n",
       "\u001b[1;31mType:\u001b[0m      function\n"
      ]
     },
     "metadata": {},
     "output_type": "display_data"
    }
   ],
   "source": [
    "    ??omnisci_renderer.display_chart"
   ]
  },
  {
   "cell_type": "code",
   "execution_count": 12,
   "metadata": {},
   "outputs": [
    {
     "data": {
      "text/html": [
       "<style>.output_html .hll { background-color: #ffffcc }\n",
       ".output_html  { background: #f8f8f8; }\n",
       ".output_html .c { color: #408080; font-style: italic } /* Comment */\n",
       ".output_html .err { border: 1px solid #FF0000 } /* Error */\n",
       ".output_html .k { color: #008000; font-weight: bold } /* Keyword */\n",
       ".output_html .o { color: #666666 } /* Operator */\n",
       ".output_html .ch { color: #408080; font-style: italic } /* Comment.Hashbang */\n",
       ".output_html .cm { color: #408080; font-style: italic } /* Comment.Multiline */\n",
       ".output_html .cp { color: #BC7A00 } /* Comment.Preproc */\n",
       ".output_html .cpf { color: #408080; font-style: italic } /* Comment.PreprocFile */\n",
       ".output_html .c1 { color: #408080; font-style: italic } /* Comment.Single */\n",
       ".output_html .cs { color: #408080; font-style: italic } /* Comment.Special */\n",
       ".output_html .gd { color: #A00000 } /* Generic.Deleted */\n",
       ".output_html .ge { font-style: italic } /* Generic.Emph */\n",
       ".output_html .gr { color: #FF0000 } /* Generic.Error */\n",
       ".output_html .gh { color: #000080; font-weight: bold } /* Generic.Heading */\n",
       ".output_html .gi { color: #00A000 } /* Generic.Inserted */\n",
       ".output_html .go { color: #888888 } /* Generic.Output */\n",
       ".output_html .gp { color: #000080; font-weight: bold } /* Generic.Prompt */\n",
       ".output_html .gs { font-weight: bold } /* Generic.Strong */\n",
       ".output_html .gu { color: #800080; font-weight: bold } /* Generic.Subheading */\n",
       ".output_html .gt { color: #0044DD } /* Generic.Traceback */\n",
       ".output_html .kc { color: #008000; font-weight: bold } /* Keyword.Constant */\n",
       ".output_html .kd { color: #008000; font-weight: bold } /* Keyword.Declaration */\n",
       ".output_html .kn { color: #008000; font-weight: bold } /* Keyword.Namespace */\n",
       ".output_html .kp { color: #008000 } /* Keyword.Pseudo */\n",
       ".output_html .kr { color: #008000; font-weight: bold } /* Keyword.Reserved */\n",
       ".output_html .kt { color: #B00040 } /* Keyword.Type */\n",
       ".output_html .m { color: #666666 } /* Literal.Number */\n",
       ".output_html .s { color: #BA2121 } /* Literal.String */\n",
       ".output_html .na { color: #7D9029 } /* Name.Attribute */\n",
       ".output_html .nb { color: #008000 } /* Name.Builtin */\n",
       ".output_html .nc { color: #0000FF; font-weight: bold } /* Name.Class */\n",
       ".output_html .no { color: #880000 } /* Name.Constant */\n",
       ".output_html .nd { color: #AA22FF } /* Name.Decorator */\n",
       ".output_html .ni { color: #999999; font-weight: bold } /* Name.Entity */\n",
       ".output_html .ne { color: #D2413A; font-weight: bold } /* Name.Exception */\n",
       ".output_html .nf { color: #0000FF } /* Name.Function */\n",
       ".output_html .nl { color: #A0A000 } /* Name.Label */\n",
       ".output_html .nn { color: #0000FF; font-weight: bold } /* Name.Namespace */\n",
       ".output_html .nt { color: #008000; font-weight: bold } /* Name.Tag */\n",
       ".output_html .nv { color: #19177C } /* Name.Variable */\n",
       ".output_html .ow { color: #AA22FF; font-weight: bold } /* Operator.Word */\n",
       ".output_html .w { color: #bbbbbb } /* Text.Whitespace */\n",
       ".output_html .mb { color: #666666 } /* Literal.Number.Bin */\n",
       ".output_html .mf { color: #666666 } /* Literal.Number.Float */\n",
       ".output_html .mh { color: #666666 } /* Literal.Number.Hex */\n",
       ".output_html .mi { color: #666666 } /* Literal.Number.Integer */\n",
       ".output_html .mo { color: #666666 } /* Literal.Number.Oct */\n",
       ".output_html .sa { color: #BA2121 } /* Literal.String.Affix */\n",
       ".output_html .sb { color: #BA2121 } /* Literal.String.Backtick */\n",
       ".output_html .sc { color: #BA2121 } /* Literal.String.Char */\n",
       ".output_html .dl { color: #BA2121 } /* Literal.String.Delimiter */\n",
       ".output_html .sd { color: #BA2121; font-style: italic } /* Literal.String.Doc */\n",
       ".output_html .s2 { color: #BA2121 } /* Literal.String.Double */\n",
       ".output_html .se { color: #BB6622; font-weight: bold } /* Literal.String.Escape */\n",
       ".output_html .sh { color: #BA2121 } /* Literal.String.Heredoc */\n",
       ".output_html .si { color: #BB6688; font-weight: bold } /* Literal.String.Interpol */\n",
       ".output_html .sx { color: #008000 } /* Literal.String.Other */\n",
       ".output_html .sr { color: #BB6688 } /* Literal.String.Regex */\n",
       ".output_html .s1 { color: #BA2121 } /* Literal.String.Single */\n",
       ".output_html .ss { color: #19177C } /* Literal.String.Symbol */\n",
       ".output_html .bp { color: #008000 } /* Name.Builtin.Pseudo */\n",
       ".output_html .fm { color: #0000FF } /* Name.Function.Magic */\n",
       ".output_html .vc { color: #19177C } /* Name.Variable.Class */\n",
       ".output_html .vg { color: #19177C } /* Name.Variable.Global */\n",
       ".output_html .vi { color: #19177C } /* Name.Variable.Instance */\n",
       ".output_html .vm { color: #19177C } /* Name.Variable.Magic */\n",
       ".output_html .il { color: #666666 } /* Literal.Number.Integer.Long */</style><div class=\"highlight\"><pre><span></span>alt.renderers.enable(&quot;json&quot;)\n",
       "</pre></div>\n"
      ],
      "text/latex": [
       "\\begin{Verbatim}[commandchars=\\\\\\{\\}]\n",
       "alt.renderers.enable(\\PYZdq{}json\\PYZdq{})\n",
       "\\end{Verbatim}\n"
      ],
      "text/plain": [
       "alt.renderers.enable(\"json\")"
      ]
     },
     "metadata": {},
     "output_type": "display_data"
    },
    {
     "name": "stderr",
     "output_type": "stream",
     "text": [
      "C:\\Anaconda3\\lib\\site-packages\\altair\\utils\\core.py:86: UserWarning: I don't know how to infer vegalite type from 'empty'.  Defaulting to nominal.\n",
      "  \"Defaulting to nominal.\".format(typ))\n"
     ]
    },
    {
     "data": {
      "application/json": {
       "$schema": "https://vega.github.io/schema/vega-lite/v2.6.0.json",
       "config": {
        "view": {
         "height": 300,
         "width": 400
        }
       },
       "data": {
        "name": "ibis_2"
       },
       "encoding": {
        "x": {
         "field": "carrier_name",
         "type": "nominal"
        },
        "y": {
         "aggregate": "count",
         "type": "quantitative"
        }
       },
       "mark": "bar"
      },
      "text/plain": [
       "<VegaLite 2 object>\n",
       "\n",
       "If you see this message, it means the renderer has not been properly enabled\n",
       "for the frontend that you are using. For more information, see\n",
       "https://altair-viz.github.io/user_guide/troubleshooting.html\n"
      ]
     },
     "metadata": {},
     "output_type": "display_data"
    },
    {
     "data": {
      "text/html": [
       "<style>.output_html .hll { background-color: #ffffcc }\n",
       ".output_html  { background: #f8f8f8; }\n",
       ".output_html .c { color: #408080; font-style: italic } /* Comment */\n",
       ".output_html .err { border: 1px solid #FF0000 } /* Error */\n",
       ".output_html .k { color: #008000; font-weight: bold } /* Keyword */\n",
       ".output_html .o { color: #666666 } /* Operator */\n",
       ".output_html .ch { color: #408080; font-style: italic } /* Comment.Hashbang */\n",
       ".output_html .cm { color: #408080; font-style: italic } /* Comment.Multiline */\n",
       ".output_html .cp { color: #BC7A00 } /* Comment.Preproc */\n",
       ".output_html .cpf { color: #408080; font-style: italic } /* Comment.PreprocFile */\n",
       ".output_html .c1 { color: #408080; font-style: italic } /* Comment.Single */\n",
       ".output_html .cs { color: #408080; font-style: italic } /* Comment.Special */\n",
       ".output_html .gd { color: #A00000 } /* Generic.Deleted */\n",
       ".output_html .ge { font-style: italic } /* Generic.Emph */\n",
       ".output_html .gr { color: #FF0000 } /* Generic.Error */\n",
       ".output_html .gh { color: #000080; font-weight: bold } /* Generic.Heading */\n",
       ".output_html .gi { color: #00A000 } /* Generic.Inserted */\n",
       ".output_html .go { color: #888888 } /* Generic.Output */\n",
       ".output_html .gp { color: #000080; font-weight: bold } /* Generic.Prompt */\n",
       ".output_html .gs { font-weight: bold } /* Generic.Strong */\n",
       ".output_html .gu { color: #800080; font-weight: bold } /* Generic.Subheading */\n",
       ".output_html .gt { color: #0044DD } /* Generic.Traceback */\n",
       ".output_html .kc { color: #008000; font-weight: bold } /* Keyword.Constant */\n",
       ".output_html .kd { color: #008000; font-weight: bold } /* Keyword.Declaration */\n",
       ".output_html .kn { color: #008000; font-weight: bold } /* Keyword.Namespace */\n",
       ".output_html .kp { color: #008000 } /* Keyword.Pseudo */\n",
       ".output_html .kr { color: #008000; font-weight: bold } /* Keyword.Reserved */\n",
       ".output_html .kt { color: #B00040 } /* Keyword.Type */\n",
       ".output_html .m { color: #666666 } /* Literal.Number */\n",
       ".output_html .s { color: #BA2121 } /* Literal.String */\n",
       ".output_html .na { color: #7D9029 } /* Name.Attribute */\n",
       ".output_html .nb { color: #008000 } /* Name.Builtin */\n",
       ".output_html .nc { color: #0000FF; font-weight: bold } /* Name.Class */\n",
       ".output_html .no { color: #880000 } /* Name.Constant */\n",
       ".output_html .nd { color: #AA22FF } /* Name.Decorator */\n",
       ".output_html .ni { color: #999999; font-weight: bold } /* Name.Entity */\n",
       ".output_html .ne { color: #D2413A; font-weight: bold } /* Name.Exception */\n",
       ".output_html .nf { color: #0000FF } /* Name.Function */\n",
       ".output_html .nl { color: #A0A000 } /* Name.Label */\n",
       ".output_html .nn { color: #0000FF; font-weight: bold } /* Name.Namespace */\n",
       ".output_html .nt { color: #008000; font-weight: bold } /* Name.Tag */\n",
       ".output_html .nv { color: #19177C } /* Name.Variable */\n",
       ".output_html .ow { color: #AA22FF; font-weight: bold } /* Operator.Word */\n",
       ".output_html .w { color: #bbbbbb } /* Text.Whitespace */\n",
       ".output_html .mb { color: #666666 } /* Literal.Number.Bin */\n",
       ".output_html .mf { color: #666666 } /* Literal.Number.Float */\n",
       ".output_html .mh { color: #666666 } /* Literal.Number.Hex */\n",
       ".output_html .mi { color: #666666 } /* Literal.Number.Integer */\n",
       ".output_html .mo { color: #666666 } /* Literal.Number.Oct */\n",
       ".output_html .sa { color: #BA2121 } /* Literal.String.Affix */\n",
       ".output_html .sb { color: #BA2121 } /* Literal.String.Backtick */\n",
       ".output_html .sc { color: #BA2121 } /* Literal.String.Char */\n",
       ".output_html .dl { color: #BA2121 } /* Literal.String.Delimiter */\n",
       ".output_html .sd { color: #BA2121; font-style: italic } /* Literal.String.Doc */\n",
       ".output_html .s2 { color: #BA2121 } /* Literal.String.Double */\n",
       ".output_html .se { color: #BB6622; font-weight: bold } /* Literal.String.Escape */\n",
       ".output_html .sh { color: #BA2121 } /* Literal.String.Heredoc */\n",
       ".output_html .si { color: #BB6688; font-weight: bold } /* Literal.String.Interpol */\n",
       ".output_html .sx { color: #008000 } /* Literal.String.Other */\n",
       ".output_html .sr { color: #BB6688 } /* Literal.String.Regex */\n",
       ".output_html .s1 { color: #BA2121 } /* Literal.String.Single */\n",
       ".output_html .ss { color: #19177C } /* Literal.String.Symbol */\n",
       ".output_html .bp { color: #008000 } /* Name.Builtin.Pseudo */\n",
       ".output_html .fm { color: #0000FF } /* Name.Function.Magic */\n",
       ".output_html .vc { color: #19177C } /* Name.Variable.Class */\n",
       ".output_html .vg { color: #19177C } /* Name.Variable.Global */\n",
       ".output_html .vi { color: #19177C } /* Name.Variable.Instance */\n",
       ".output_html .vm { color: #19177C } /* Name.Variable.Magic */\n",
       ".output_html .il { color: #666666 } /* Literal.Number.Integer.Long */</style><div class=\"highlight\"><pre><span></span>alt.renderers.enable(&quot;extract-json&quot;)\n",
       "</pre></div>\n"
      ],
      "text/latex": [
       "\\begin{Verbatim}[commandchars=\\\\\\{\\}]\n",
       "alt.renderers.enable(\\PYZdq{}extract\\PYZhy{}json\\PYZdq{})\n",
       "\\end{Verbatim}\n"
      ],
      "text/plain": [
       "alt.renderers.enable(\"extract-json\")"
      ]
     },
     "metadata": {},
     "output_type": "display_data"
    },
    {
     "data": {
      "application/json": {
       "$schema": "https://vega.github.io/schema/vega-lite/v2.6.0.json",
       "config": {
        "view": {
         "height": 300,
         "width": 400
        }
       },
       "data": {
        "name": "ibis_3"
       },
       "encoding": {
        "x": {
         "field": "carrier_name",
         "type": "nominal"
        },
        "y": {
         "field": "count_*",
         "title": "Number of Records",
         "type": "quantitative"
        }
       },
       "mark": "bar",
       "transform": [
        {
         "aggregate": [
          {
           "as": "count_*",
           "op": "count"
          }
         ],
         "groupby": [
          "carrier_name"
         ]
        }
       ]
      },
      "text/plain": [
       "<IPython.core.display.JSON object>"
      ]
     },
     "metadata": {
      "application/json": {
       "expanded": false,
       "root": "root"
      }
     },
     "output_type": "display_data"
    },
    {
     "data": {
      "text/html": [
       "<style>.output_html .hll { background-color: #ffffcc }\n",
       ".output_html  { background: #f8f8f8; }\n",
       ".output_html .c { color: #408080; font-style: italic } /* Comment */\n",
       ".output_html .err { border: 1px solid #FF0000 } /* Error */\n",
       ".output_html .k { color: #008000; font-weight: bold } /* Keyword */\n",
       ".output_html .o { color: #666666 } /* Operator */\n",
       ".output_html .ch { color: #408080; font-style: italic } /* Comment.Hashbang */\n",
       ".output_html .cm { color: #408080; font-style: italic } /* Comment.Multiline */\n",
       ".output_html .cp { color: #BC7A00 } /* Comment.Preproc */\n",
       ".output_html .cpf { color: #408080; font-style: italic } /* Comment.PreprocFile */\n",
       ".output_html .c1 { color: #408080; font-style: italic } /* Comment.Single */\n",
       ".output_html .cs { color: #408080; font-style: italic } /* Comment.Special */\n",
       ".output_html .gd { color: #A00000 } /* Generic.Deleted */\n",
       ".output_html .ge { font-style: italic } /* Generic.Emph */\n",
       ".output_html .gr { color: #FF0000 } /* Generic.Error */\n",
       ".output_html .gh { color: #000080; font-weight: bold } /* Generic.Heading */\n",
       ".output_html .gi { color: #00A000 } /* Generic.Inserted */\n",
       ".output_html .go { color: #888888 } /* Generic.Output */\n",
       ".output_html .gp { color: #000080; font-weight: bold } /* Generic.Prompt */\n",
       ".output_html .gs { font-weight: bold } /* Generic.Strong */\n",
       ".output_html .gu { color: #800080; font-weight: bold } /* Generic.Subheading */\n",
       ".output_html .gt { color: #0044DD } /* Generic.Traceback */\n",
       ".output_html .kc { color: #008000; font-weight: bold } /* Keyword.Constant */\n",
       ".output_html .kd { color: #008000; font-weight: bold } /* Keyword.Declaration */\n",
       ".output_html .kn { color: #008000; font-weight: bold } /* Keyword.Namespace */\n",
       ".output_html .kp { color: #008000 } /* Keyword.Pseudo */\n",
       ".output_html .kr { color: #008000; font-weight: bold } /* Keyword.Reserved */\n",
       ".output_html .kt { color: #B00040 } /* Keyword.Type */\n",
       ".output_html .m { color: #666666 } /* Literal.Number */\n",
       ".output_html .s { color: #BA2121 } /* Literal.String */\n",
       ".output_html .na { color: #7D9029 } /* Name.Attribute */\n",
       ".output_html .nb { color: #008000 } /* Name.Builtin */\n",
       ".output_html .nc { color: #0000FF; font-weight: bold } /* Name.Class */\n",
       ".output_html .no { color: #880000 } /* Name.Constant */\n",
       ".output_html .nd { color: #AA22FF } /* Name.Decorator */\n",
       ".output_html .ni { color: #999999; font-weight: bold } /* Name.Entity */\n",
       ".output_html .ne { color: #D2413A; font-weight: bold } /* Name.Exception */\n",
       ".output_html .nf { color: #0000FF } /* Name.Function */\n",
       ".output_html .nl { color: #A0A000 } /* Name.Label */\n",
       ".output_html .nn { color: #0000FF; font-weight: bold } /* Name.Namespace */\n",
       ".output_html .nt { color: #008000; font-weight: bold } /* Name.Tag */\n",
       ".output_html .nv { color: #19177C } /* Name.Variable */\n",
       ".output_html .ow { color: #AA22FF; font-weight: bold } /* Operator.Word */\n",
       ".output_html .w { color: #bbbbbb } /* Text.Whitespace */\n",
       ".output_html .mb { color: #666666 } /* Literal.Number.Bin */\n",
       ".output_html .mf { color: #666666 } /* Literal.Number.Float */\n",
       ".output_html .mh { color: #666666 } /* Literal.Number.Hex */\n",
       ".output_html .mi { color: #666666 } /* Literal.Number.Integer */\n",
       ".output_html .mo { color: #666666 } /* Literal.Number.Oct */\n",
       ".output_html .sa { color: #BA2121 } /* Literal.String.Affix */\n",
       ".output_html .sb { color: #BA2121 } /* Literal.String.Backtick */\n",
       ".output_html .sc { color: #BA2121 } /* Literal.String.Char */\n",
       ".output_html .dl { color: #BA2121 } /* Literal.String.Delimiter */\n",
       ".output_html .sd { color: #BA2121; font-style: italic } /* Literal.String.Doc */\n",
       ".output_html .s2 { color: #BA2121 } /* Literal.String.Double */\n",
       ".output_html .se { color: #BB6622; font-weight: bold } /* Literal.String.Escape */\n",
       ".output_html .sh { color: #BA2121 } /* Literal.String.Heredoc */\n",
       ".output_html .si { color: #BB6688; font-weight: bold } /* Literal.String.Interpol */\n",
       ".output_html .sx { color: #008000 } /* Literal.String.Other */\n",
       ".output_html .sr { color: #BB6688 } /* Literal.String.Regex */\n",
       ".output_html .s1 { color: #BA2121 } /* Literal.String.Single */\n",
       ".output_html .ss { color: #19177C } /* Literal.String.Symbol */\n",
       ".output_html .bp { color: #008000 } /* Name.Builtin.Pseudo */\n",
       ".output_html .fm { color: #0000FF } /* Name.Function.Magic */\n",
       ".output_html .vc { color: #19177C } /* Name.Variable.Class */\n",
       ".output_html .vg { color: #19177C } /* Name.Variable.Global */\n",
       ".output_html .vi { color: #19177C } /* Name.Variable.Instance */\n",
       ".output_html .vm { color: #19177C } /* Name.Variable.Magic */\n",
       ".output_html .il { color: #666666 } /* Literal.Number.Integer.Long */</style><div class=\"highlight\"><pre><span></span>alt.renderers.enable(&quot;extract-ibis-sql&quot;)\n",
       "</pre></div>\n"
      ],
      "text/latex": [
       "\\begin{Verbatim}[commandchars=\\\\\\{\\}]\n",
       "alt.renderers.enable(\\PYZdq{}extract\\PYZhy{}ibis\\PYZhy{}sql\\PYZdq{})\n",
       "\\end{Verbatim}\n"
      ],
      "text/plain": [
       "alt.renderers.enable(\"extract-ibis-sql\")"
      ]
     },
     "metadata": {},
     "output_type": "display_data"
    },
    {
     "data": {
      "text/html": [
       "<style>.output_html .hll { background-color: #ffffcc }\n",
       ".output_html  { background: #f8f8f8; }\n",
       ".output_html .c { color: #408080; font-style: italic } /* Comment */\n",
       ".output_html .err { border: 1px solid #FF0000 } /* Error */\n",
       ".output_html .k { color: #008000; font-weight: bold } /* Keyword */\n",
       ".output_html .o { color: #666666 } /* Operator */\n",
       ".output_html .ch { color: #408080; font-style: italic } /* Comment.Hashbang */\n",
       ".output_html .cm { color: #408080; font-style: italic } /* Comment.Multiline */\n",
       ".output_html .cp { color: #BC7A00 } /* Comment.Preproc */\n",
       ".output_html .cpf { color: #408080; font-style: italic } /* Comment.PreprocFile */\n",
       ".output_html .c1 { color: #408080; font-style: italic } /* Comment.Single */\n",
       ".output_html .cs { color: #408080; font-style: italic } /* Comment.Special */\n",
       ".output_html .gd { color: #A00000 } /* Generic.Deleted */\n",
       ".output_html .ge { font-style: italic } /* Generic.Emph */\n",
       ".output_html .gr { color: #FF0000 } /* Generic.Error */\n",
       ".output_html .gh { color: #000080; font-weight: bold } /* Generic.Heading */\n",
       ".output_html .gi { color: #00A000 } /* Generic.Inserted */\n",
       ".output_html .go { color: #888888 } /* Generic.Output */\n",
       ".output_html .gp { color: #000080; font-weight: bold } /* Generic.Prompt */\n",
       ".output_html .gs { font-weight: bold } /* Generic.Strong */\n",
       ".output_html .gu { color: #800080; font-weight: bold } /* Generic.Subheading */\n",
       ".output_html .gt { color: #0044DD } /* Generic.Traceback */\n",
       ".output_html .kc { color: #008000; font-weight: bold } /* Keyword.Constant */\n",
       ".output_html .kd { color: #008000; font-weight: bold } /* Keyword.Declaration */\n",
       ".output_html .kn { color: #008000; font-weight: bold } /* Keyword.Namespace */\n",
       ".output_html .kp { color: #008000 } /* Keyword.Pseudo */\n",
       ".output_html .kr { color: #008000; font-weight: bold } /* Keyword.Reserved */\n",
       ".output_html .kt { color: #B00040 } /* Keyword.Type */\n",
       ".output_html .m { color: #666666 } /* Literal.Number */\n",
       ".output_html .s { color: #BA2121 } /* Literal.String */\n",
       ".output_html .na { color: #7D9029 } /* Name.Attribute */\n",
       ".output_html .nb { color: #008000 } /* Name.Builtin */\n",
       ".output_html .nc { color: #0000FF; font-weight: bold } /* Name.Class */\n",
       ".output_html .no { color: #880000 } /* Name.Constant */\n",
       ".output_html .nd { color: #AA22FF } /* Name.Decorator */\n",
       ".output_html .ni { color: #999999; font-weight: bold } /* Name.Entity */\n",
       ".output_html .ne { color: #D2413A; font-weight: bold } /* Name.Exception */\n",
       ".output_html .nf { color: #0000FF } /* Name.Function */\n",
       ".output_html .nl { color: #A0A000 } /* Name.Label */\n",
       ".output_html .nn { color: #0000FF; font-weight: bold } /* Name.Namespace */\n",
       ".output_html .nt { color: #008000; font-weight: bold } /* Name.Tag */\n",
       ".output_html .nv { color: #19177C } /* Name.Variable */\n",
       ".output_html .ow { color: #AA22FF; font-weight: bold } /* Operator.Word */\n",
       ".output_html .w { color: #bbbbbb } /* Text.Whitespace */\n",
       ".output_html .mb { color: #666666 } /* Literal.Number.Bin */\n",
       ".output_html .mf { color: #666666 } /* Literal.Number.Float */\n",
       ".output_html .mh { color: #666666 } /* Literal.Number.Hex */\n",
       ".output_html .mi { color: #666666 } /* Literal.Number.Integer */\n",
       ".output_html .mo { color: #666666 } /* Literal.Number.Oct */\n",
       ".output_html .sa { color: #BA2121 } /* Literal.String.Affix */\n",
       ".output_html .sb { color: #BA2121 } /* Literal.String.Backtick */\n",
       ".output_html .sc { color: #BA2121 } /* Literal.String.Char */\n",
       ".output_html .dl { color: #BA2121 } /* Literal.String.Delimiter */\n",
       ".output_html .sd { color: #BA2121; font-style: italic } /* Literal.String.Doc */\n",
       ".output_html .s2 { color: #BA2121 } /* Literal.String.Double */\n",
       ".output_html .se { color: #BB6622; font-weight: bold } /* Literal.String.Escape */\n",
       ".output_html .sh { color: #BA2121 } /* Literal.String.Heredoc */\n",
       ".output_html .si { color: #BB6688; font-weight: bold } /* Literal.String.Interpol */\n",
       ".output_html .sx { color: #008000 } /* Literal.String.Other */\n",
       ".output_html .sr { color: #BB6688 } /* Literal.String.Regex */\n",
       ".output_html .s1 { color: #BA2121 } /* Literal.String.Single */\n",
       ".output_html .ss { color: #19177C } /* Literal.String.Symbol */\n",
       ".output_html .bp { color: #008000 } /* Name.Builtin.Pseudo */\n",
       ".output_html .fm { color: #0000FF } /* Name.Function.Magic */\n",
       ".output_html .vc { color: #19177C } /* Name.Variable.Class */\n",
       ".output_html .vg { color: #19177C } /* Name.Variable.Global */\n",
       ".output_html .vi { color: #19177C } /* Name.Variable.Instance */\n",
       ".output_html .vm { color: #19177C } /* Name.Variable.Magic */\n",
       ".output_html .il { color: #666666 } /* Literal.Number.Integer.Long */</style><div class=\"highlight\"><pre><span></span>SELECT &quot;carrier_name&quot;, count(*) AS count_*\n",
       "FROM (\n",
       "  SELECT &quot;carrier_name&quot;\n",
       "  FROM flights_donotmodify\n",
       ") t0\n",
       "GROUP BY carrier_name\n",
       "</pre></div>\n"
      ],
      "text/latex": [
       "\\begin{Verbatim}[commandchars=\\\\\\{\\}]\n",
       "SELECT \\PYZdq{}carrier\\PYZus{}name\\PYZdq{}, count(*) AS count\\PYZus{}*\n",
       "FROM (\n",
       "  SELECT \\PYZdq{}carrier\\PYZus{}name\\PYZdq{}\n",
       "  FROM flights\\PYZus{}donotmodify\n",
       ") t0\n",
       "GROUP BY carrier\\PYZus{}name\n",
       "\\end{Verbatim}\n"
      ],
      "text/plain": [
       "SELECT \"carrier_name\", count(*) AS count_*\n",
       "FROM (\n",
       "  SELECT \"carrier_name\"\n",
       "  FROM flights_donotmodify\n",
       ") t0\n",
       "GROUP BY carrier_name"
      ]
     },
     "metadata": {},
     "output_type": "display_data"
    },
    {
     "data": {
      "text/html": [
       "<style>.output_html .hll { background-color: #ffffcc }\n",
       ".output_html  { background: #f8f8f8; }\n",
       ".output_html .c { color: #408080; font-style: italic } /* Comment */\n",
       ".output_html .err { border: 1px solid #FF0000 } /* Error */\n",
       ".output_html .k { color: #008000; font-weight: bold } /* Keyword */\n",
       ".output_html .o { color: #666666 } /* Operator */\n",
       ".output_html .ch { color: #408080; font-style: italic } /* Comment.Hashbang */\n",
       ".output_html .cm { color: #408080; font-style: italic } /* Comment.Multiline */\n",
       ".output_html .cp { color: #BC7A00 } /* Comment.Preproc */\n",
       ".output_html .cpf { color: #408080; font-style: italic } /* Comment.PreprocFile */\n",
       ".output_html .c1 { color: #408080; font-style: italic } /* Comment.Single */\n",
       ".output_html .cs { color: #408080; font-style: italic } /* Comment.Special */\n",
       ".output_html .gd { color: #A00000 } /* Generic.Deleted */\n",
       ".output_html .ge { font-style: italic } /* Generic.Emph */\n",
       ".output_html .gr { color: #FF0000 } /* Generic.Error */\n",
       ".output_html .gh { color: #000080; font-weight: bold } /* Generic.Heading */\n",
       ".output_html .gi { color: #00A000 } /* Generic.Inserted */\n",
       ".output_html .go { color: #888888 } /* Generic.Output */\n",
       ".output_html .gp { color: #000080; font-weight: bold } /* Generic.Prompt */\n",
       ".output_html .gs { font-weight: bold } /* Generic.Strong */\n",
       ".output_html .gu { color: #800080; font-weight: bold } /* Generic.Subheading */\n",
       ".output_html .gt { color: #0044DD } /* Generic.Traceback */\n",
       ".output_html .kc { color: #008000; font-weight: bold } /* Keyword.Constant */\n",
       ".output_html .kd { color: #008000; font-weight: bold } /* Keyword.Declaration */\n",
       ".output_html .kn { color: #008000; font-weight: bold } /* Keyword.Namespace */\n",
       ".output_html .kp { color: #008000 } /* Keyword.Pseudo */\n",
       ".output_html .kr { color: #008000; font-weight: bold } /* Keyword.Reserved */\n",
       ".output_html .kt { color: #B00040 } /* Keyword.Type */\n",
       ".output_html .m { color: #666666 } /* Literal.Number */\n",
       ".output_html .s { color: #BA2121 } /* Literal.String */\n",
       ".output_html .na { color: #7D9029 } /* Name.Attribute */\n",
       ".output_html .nb { color: #008000 } /* Name.Builtin */\n",
       ".output_html .nc { color: #0000FF; font-weight: bold } /* Name.Class */\n",
       ".output_html .no { color: #880000 } /* Name.Constant */\n",
       ".output_html .nd { color: #AA22FF } /* Name.Decorator */\n",
       ".output_html .ni { color: #999999; font-weight: bold } /* Name.Entity */\n",
       ".output_html .ne { color: #D2413A; font-weight: bold } /* Name.Exception */\n",
       ".output_html .nf { color: #0000FF } /* Name.Function */\n",
       ".output_html .nl { color: #A0A000 } /* Name.Label */\n",
       ".output_html .nn { color: #0000FF; font-weight: bold } /* Name.Namespace */\n",
       ".output_html .nt { color: #008000; font-weight: bold } /* Name.Tag */\n",
       ".output_html .nv { color: #19177C } /* Name.Variable */\n",
       ".output_html .ow { color: #AA22FF; font-weight: bold } /* Operator.Word */\n",
       ".output_html .w { color: #bbbbbb } /* Text.Whitespace */\n",
       ".output_html .mb { color: #666666 } /* Literal.Number.Bin */\n",
       ".output_html .mf { color: #666666 } /* Literal.Number.Float */\n",
       ".output_html .mh { color: #666666 } /* Literal.Number.Hex */\n",
       ".output_html .mi { color: #666666 } /* Literal.Number.Integer */\n",
       ".output_html .mo { color: #666666 } /* Literal.Number.Oct */\n",
       ".output_html .sa { color: #BA2121 } /* Literal.String.Affix */\n",
       ".output_html .sb { color: #BA2121 } /* Literal.String.Backtick */\n",
       ".output_html .sc { color: #BA2121 } /* Literal.String.Char */\n",
       ".output_html .dl { color: #BA2121 } /* Literal.String.Delimiter */\n",
       ".output_html .sd { color: #BA2121; font-style: italic } /* Literal.String.Doc */\n",
       ".output_html .s2 { color: #BA2121 } /* Literal.String.Double */\n",
       ".output_html .se { color: #BB6622; font-weight: bold } /* Literal.String.Escape */\n",
       ".output_html .sh { color: #BA2121 } /* Literal.String.Heredoc */\n",
       ".output_html .si { color: #BB6688; font-weight: bold } /* Literal.String.Interpol */\n",
       ".output_html .sx { color: #008000 } /* Literal.String.Other */\n",
       ".output_html .sr { color: #BB6688 } /* Literal.String.Regex */\n",
       ".output_html .s1 { color: #BA2121 } /* Literal.String.Single */\n",
       ".output_html .ss { color: #19177C } /* Literal.String.Symbol */\n",
       ".output_html .bp { color: #008000 } /* Name.Builtin.Pseudo */\n",
       ".output_html .fm { color: #0000FF } /* Name.Function.Magic */\n",
       ".output_html .vc { color: #19177C } /* Name.Variable.Class */\n",
       ".output_html .vg { color: #19177C } /* Name.Variable.Global */\n",
       ".output_html .vi { color: #19177C } /* Name.Variable.Instance */\n",
       ".output_html .vm { color: #19177C } /* Name.Variable.Magic */\n",
       ".output_html .il { color: #666666 } /* Literal.Number.Integer.Long */</style><div class=\"highlight\"><pre><span></span>alt.renderers.enable(&quot;extract-ibis&quot;)\n",
       "</pre></div>\n"
      ],
      "text/latex": [
       "\\begin{Verbatim}[commandchars=\\\\\\{\\}]\n",
       "alt.renderers.enable(\\PYZdq{}extract\\PYZhy{}ibis\\PYZdq{})\n",
       "\\end{Verbatim}\n"
      ],
      "text/plain": [
       "alt.renderers.enable(\"extract-ibis\")"
      ]
     },
     "metadata": {},
     "output_type": "display_data"
    },
    {
     "data": {
      "application/vnd.vegalite.v2+json": {
       "data": {
        "values": []
       },
       "mark": "bar"
      },
      "image/png": "[encoded data removed]",
      "text/plain": [
       "<VegaLite 2 object>\n",
       "\n",
       "If you see this message, it means the renderer has not been properly enabled\n",
       "for the frontend that you are using. For more information, see\n",
       "https://altair-viz.github.io/user_guide/troubleshooting.html\n"
      ]
     },
     "metadata": {},
     "output_type": "display_data"
    },
    {
     "data": {
      "text/html": [
       "<pre><code>omnisci_renderer.display_chart(c)\n",
       "</code></pre>"
      ],
      "text/markdown": [
       "    omnisci_renderer.display_chart(c)"
      ],
      "text/plain": [
       "'    omnisci_renderer.display_chart(c)'"
      ]
     },
     "metadata": {},
     "output_type": "display_data"
    }
   ],
   "source": [
    "    omnisci_renderer.display_chart(c)"
   ]
  },
  {
   "cell_type": "code",
   "execution_count": 13,
   "metadata": {},
   "outputs": [
    {
     "data": {
      "text/html": [
       "<style>.output_html .hll { background-color: #ffffcc }\n",
       ".output_html  { background: #f8f8f8; }\n",
       ".output_html .c { color: #408080; font-style: italic } /* Comment */\n",
       ".output_html .err { border: 1px solid #FF0000 } /* Error */\n",
       ".output_html .k { color: #008000; font-weight: bold } /* Keyword */\n",
       ".output_html .o { color: #666666 } /* Operator */\n",
       ".output_html .ch { color: #408080; font-style: italic } /* Comment.Hashbang */\n",
       ".output_html .cm { color: #408080; font-style: italic } /* Comment.Multiline */\n",
       ".output_html .cp { color: #BC7A00 } /* Comment.Preproc */\n",
       ".output_html .cpf { color: #408080; font-style: italic } /* Comment.PreprocFile */\n",
       ".output_html .c1 { color: #408080; font-style: italic } /* Comment.Single */\n",
       ".output_html .cs { color: #408080; font-style: italic } /* Comment.Special */\n",
       ".output_html .gd { color: #A00000 } /* Generic.Deleted */\n",
       ".output_html .ge { font-style: italic } /* Generic.Emph */\n",
       ".output_html .gr { color: #FF0000 } /* Generic.Error */\n",
       ".output_html .gh { color: #000080; font-weight: bold } /* Generic.Heading */\n",
       ".output_html .gi { color: #00A000 } /* Generic.Inserted */\n",
       ".output_html .go { color: #888888 } /* Generic.Output */\n",
       ".output_html .gp { color: #000080; font-weight: bold } /* Generic.Prompt */\n",
       ".output_html .gs { font-weight: bold } /* Generic.Strong */\n",
       ".output_html .gu { color: #800080; font-weight: bold } /* Generic.Subheading */\n",
       ".output_html .gt { color: #0044DD } /* Generic.Traceback */\n",
       ".output_html .kc { color: #008000; font-weight: bold } /* Keyword.Constant */\n",
       ".output_html .kd { color: #008000; font-weight: bold } /* Keyword.Declaration */\n",
       ".output_html .kn { color: #008000; font-weight: bold } /* Keyword.Namespace */\n",
       ".output_html .kp { color: #008000 } /* Keyword.Pseudo */\n",
       ".output_html .kr { color: #008000; font-weight: bold } /* Keyword.Reserved */\n",
       ".output_html .kt { color: #B00040 } /* Keyword.Type */\n",
       ".output_html .m { color: #666666 } /* Literal.Number */\n",
       ".output_html .s { color: #BA2121 } /* Literal.String */\n",
       ".output_html .na { color: #7D9029 } /* Name.Attribute */\n",
       ".output_html .nb { color: #008000 } /* Name.Builtin */\n",
       ".output_html .nc { color: #0000FF; font-weight: bold } /* Name.Class */\n",
       ".output_html .no { color: #880000 } /* Name.Constant */\n",
       ".output_html .nd { color: #AA22FF } /* Name.Decorator */\n",
       ".output_html .ni { color: #999999; font-weight: bold } /* Name.Entity */\n",
       ".output_html .ne { color: #D2413A; font-weight: bold } /* Name.Exception */\n",
       ".output_html .nf { color: #0000FF } /* Name.Function */\n",
       ".output_html .nl { color: #A0A000 } /* Name.Label */\n",
       ".output_html .nn { color: #0000FF; font-weight: bold } /* Name.Namespace */\n",
       ".output_html .nt { color: #008000; font-weight: bold } /* Name.Tag */\n",
       ".output_html .nv { color: #19177C } /* Name.Variable */\n",
       ".output_html .ow { color: #AA22FF; font-weight: bold } /* Operator.Word */\n",
       ".output_html .w { color: #bbbbbb } /* Text.Whitespace */\n",
       ".output_html .mb { color: #666666 } /* Literal.Number.Bin */\n",
       ".output_html .mf { color: #666666 } /* Literal.Number.Float */\n",
       ".output_html .mh { color: #666666 } /* Literal.Number.Hex */\n",
       ".output_html .mi { color: #666666 } /* Literal.Number.Integer */\n",
       ".output_html .mo { color: #666666 } /* Literal.Number.Oct */\n",
       ".output_html .sa { color: #BA2121 } /* Literal.String.Affix */\n",
       ".output_html .sb { color: #BA2121 } /* Literal.String.Backtick */\n",
       ".output_html .sc { color: #BA2121 } /* Literal.String.Char */\n",
       ".output_html .dl { color: #BA2121 } /* Literal.String.Delimiter */\n",
       ".output_html .sd { color: #BA2121; font-style: italic } /* Literal.String.Doc */\n",
       ".output_html .s2 { color: #BA2121 } /* Literal.String.Double */\n",
       ".output_html .se { color: #BB6622; font-weight: bold } /* Literal.String.Escape */\n",
       ".output_html .sh { color: #BA2121 } /* Literal.String.Heredoc */\n",
       ".output_html .si { color: #BB6688; font-weight: bold } /* Literal.String.Interpol */\n",
       ".output_html .sx { color: #008000 } /* Literal.String.Other */\n",
       ".output_html .sr { color: #BB6688 } /* Literal.String.Regex */\n",
       ".output_html .s1 { color: #BA2121 } /* Literal.String.Single */\n",
       ".output_html .ss { color: #19177C } /* Literal.String.Symbol */\n",
       ".output_html .bp { color: #008000 } /* Name.Builtin.Pseudo */\n",
       ".output_html .fm { color: #0000FF } /* Name.Function.Magic */\n",
       ".output_html .vc { color: #19177C } /* Name.Variable.Class */\n",
       ".output_html .vg { color: #19177C } /* Name.Variable.Global */\n",
       ".output_html .vi { color: #19177C } /* Name.Variable.Instance */\n",
       ".output_html .vm { color: #19177C } /* Name.Variable.Magic */\n",
       ".output_html .il { color: #666666 } /* Literal.Number.Integer.Long */</style><div class=\"highlight\"><pre><span></span>alt.renderers.enable(&quot;json&quot;)\n",
       "</pre></div>\n"
      ],
      "text/latex": [
       "\\begin{Verbatim}[commandchars=\\\\\\{\\}]\n",
       "alt.renderers.enable(\\PYZdq{}json\\PYZdq{})\n",
       "\\end{Verbatim}\n"
      ],
      "text/plain": [
       "alt.renderers.enable(\"json\")"
      ]
     },
     "metadata": {},
     "output_type": "display_data"
    },
    {
     "data": {
      "application/json": {
       "$schema": "https://vega.github.io/schema/vega-lite/v2.6.0.json",
       "config": {
        "view": {
         "height": 300,
         "width": 400
        }
       },
       "data": {
        "name": "ibis_6"
       },
       "encoding": {
        "color": {
         "aggregate": "average",
         "field": "depdelay",
         "type": "quantitative"
        },
        "x": {
         "field": "flight_dayofmonth",
         "type": "ordinal"
        },
        "y": {
         "field": "flight_month",
         "type": "ordinal"
        }
       },
       "mark": "rect"
      },
      "text/plain": [
       "<VegaLite 2 object>\n",
       "\n",
       "If you see this message, it means the renderer has not been properly enabled\n",
       "for the frontend that you are using. For more information, see\n",
       "https://altair-viz.github.io/user_guide/troubleshooting.html\n"
      ]
     },
     "metadata": {},
     "output_type": "display_data"
    },
    {
     "data": {
      "text/html": [
       "<style>.output_html .hll { background-color: #ffffcc }\n",
       ".output_html  { background: #f8f8f8; }\n",
       ".output_html .c { color: #408080; font-style: italic } /* Comment */\n",
       ".output_html .err { border: 1px solid #FF0000 } /* Error */\n",
       ".output_html .k { color: #008000; font-weight: bold } /* Keyword */\n",
       ".output_html .o { color: #666666 } /* Operator */\n",
       ".output_html .ch { color: #408080; font-style: italic } /* Comment.Hashbang */\n",
       ".output_html .cm { color: #408080; font-style: italic } /* Comment.Multiline */\n",
       ".output_html .cp { color: #BC7A00 } /* Comment.Preproc */\n",
       ".output_html .cpf { color: #408080; font-style: italic } /* Comment.PreprocFile */\n",
       ".output_html .c1 { color: #408080; font-style: italic } /* Comment.Single */\n",
       ".output_html .cs { color: #408080; font-style: italic } /* Comment.Special */\n",
       ".output_html .gd { color: #A00000 } /* Generic.Deleted */\n",
       ".output_html .ge { font-style: italic } /* Generic.Emph */\n",
       ".output_html .gr { color: #FF0000 } /* Generic.Error */\n",
       ".output_html .gh { color: #000080; font-weight: bold } /* Generic.Heading */\n",
       ".output_html .gi { color: #00A000 } /* Generic.Inserted */\n",
       ".output_html .go { color: #888888 } /* Generic.Output */\n",
       ".output_html .gp { color: #000080; font-weight: bold } /* Generic.Prompt */\n",
       ".output_html .gs { font-weight: bold } /* Generic.Strong */\n",
       ".output_html .gu { color: #800080; font-weight: bold } /* Generic.Subheading */\n",
       ".output_html .gt { color: #0044DD } /* Generic.Traceback */\n",
       ".output_html .kc { color: #008000; font-weight: bold } /* Keyword.Constant */\n",
       ".output_html .kd { color: #008000; font-weight: bold } /* Keyword.Declaration */\n",
       ".output_html .kn { color: #008000; font-weight: bold } /* Keyword.Namespace */\n",
       ".output_html .kp { color: #008000 } /* Keyword.Pseudo */\n",
       ".output_html .kr { color: #008000; font-weight: bold } /* Keyword.Reserved */\n",
       ".output_html .kt { color: #B00040 } /* Keyword.Type */\n",
       ".output_html .m { color: #666666 } /* Literal.Number */\n",
       ".output_html .s { color: #BA2121 } /* Literal.String */\n",
       ".output_html .na { color: #7D9029 } /* Name.Attribute */\n",
       ".output_html .nb { color: #008000 } /* Name.Builtin */\n",
       ".output_html .nc { color: #0000FF; font-weight: bold } /* Name.Class */\n",
       ".output_html .no { color: #880000 } /* Name.Constant */\n",
       ".output_html .nd { color: #AA22FF } /* Name.Decorator */\n",
       ".output_html .ni { color: #999999; font-weight: bold } /* Name.Entity */\n",
       ".output_html .ne { color: #D2413A; font-weight: bold } /* Name.Exception */\n",
       ".output_html .nf { color: #0000FF } /* Name.Function */\n",
       ".output_html .nl { color: #A0A000 } /* Name.Label */\n",
       ".output_html .nn { color: #0000FF; font-weight: bold } /* Name.Namespace */\n",
       ".output_html .nt { color: #008000; font-weight: bold } /* Name.Tag */\n",
       ".output_html .nv { color: #19177C } /* Name.Variable */\n",
       ".output_html .ow { color: #AA22FF; font-weight: bold } /* Operator.Word */\n",
       ".output_html .w { color: #bbbbbb } /* Text.Whitespace */\n",
       ".output_html .mb { color: #666666 } /* Literal.Number.Bin */\n",
       ".output_html .mf { color: #666666 } /* Literal.Number.Float */\n",
       ".output_html .mh { color: #666666 } /* Literal.Number.Hex */\n",
       ".output_html .mi { color: #666666 } /* Literal.Number.Integer */\n",
       ".output_html .mo { color: #666666 } /* Literal.Number.Oct */\n",
       ".output_html .sa { color: #BA2121 } /* Literal.String.Affix */\n",
       ".output_html .sb { color: #BA2121 } /* Literal.String.Backtick */\n",
       ".output_html .sc { color: #BA2121 } /* Literal.String.Char */\n",
       ".output_html .dl { color: #BA2121 } /* Literal.String.Delimiter */\n",
       ".output_html .sd { color: #BA2121; font-style: italic } /* Literal.String.Doc */\n",
       ".output_html .s2 { color: #BA2121 } /* Literal.String.Double */\n",
       ".output_html .se { color: #BB6622; font-weight: bold } /* Literal.String.Escape */\n",
       ".output_html .sh { color: #BA2121 } /* Literal.String.Heredoc */\n",
       ".output_html .si { color: #BB6688; font-weight: bold } /* Literal.String.Interpol */\n",
       ".output_html .sx { color: #008000 } /* Literal.String.Other */\n",
       ".output_html .sr { color: #BB6688 } /* Literal.String.Regex */\n",
       ".output_html .s1 { color: #BA2121 } /* Literal.String.Single */\n",
       ".output_html .ss { color: #19177C } /* Literal.String.Symbol */\n",
       ".output_html .bp { color: #008000 } /* Name.Builtin.Pseudo */\n",
       ".output_html .fm { color: #0000FF } /* Name.Function.Magic */\n",
       ".output_html .vc { color: #19177C } /* Name.Variable.Class */\n",
       ".output_html .vg { color: #19177C } /* Name.Variable.Global */\n",
       ".output_html .vi { color: #19177C } /* Name.Variable.Instance */\n",
       ".output_html .vm { color: #19177C } /* Name.Variable.Magic */\n",
       ".output_html .il { color: #666666 } /* Literal.Number.Integer.Long */</style><div class=\"highlight\"><pre><span></span>alt.renderers.enable(&quot;extract-json&quot;)\n",
       "</pre></div>\n"
      ],
      "text/latex": [
       "\\begin{Verbatim}[commandchars=\\\\\\{\\}]\n",
       "alt.renderers.enable(\\PYZdq{}extract\\PYZhy{}json\\PYZdq{})\n",
       "\\end{Verbatim}\n"
      ],
      "text/plain": [
       "alt.renderers.enable(\"extract-json\")"
      ]
     },
     "metadata": {},
     "output_type": "display_data"
    },
    {
     "data": {
      "application/json": {
       "$schema": "https://vega.github.io/schema/vega-lite/v2.6.0.json",
       "config": {
        "view": {
         "height": 300,
         "width": 400
        }
       },
       "data": {
        "name": "ibis_7"
       },
       "encoding": {
        "color": {
         "field": "average_depdelay",
         "title": "Average of depdelay",
         "type": "quantitative"
        },
        "x": {
         "field": "flight_dayofmonth",
         "type": "ordinal"
        },
        "y": {
         "field": "flight_month",
         "type": "ordinal"
        }
       },
       "mark": "rect",
       "transform": [
        {
         "aggregate": [
          {
           "as": "average_depdelay",
           "field": "depdelay",
           "op": "average"
          }
         ],
         "groupby": [
          "flight_dayofmonth",
          "flight_month"
         ]
        }
       ]
      },
      "text/plain": [
       "<IPython.core.display.JSON object>"
      ]
     },
     "metadata": {
      "application/json": {
       "expanded": false,
       "root": "root"
      }
     },
     "output_type": "display_data"
    },
    {
     "data": {
      "text/html": [
       "<style>.output_html .hll { background-color: #ffffcc }\n",
       ".output_html  { background: #f8f8f8; }\n",
       ".output_html .c { color: #408080; font-style: italic } /* Comment */\n",
       ".output_html .err { border: 1px solid #FF0000 } /* Error */\n",
       ".output_html .k { color: #008000; font-weight: bold } /* Keyword */\n",
       ".output_html .o { color: #666666 } /* Operator */\n",
       ".output_html .ch { color: #408080; font-style: italic } /* Comment.Hashbang */\n",
       ".output_html .cm { color: #408080; font-style: italic } /* Comment.Multiline */\n",
       ".output_html .cp { color: #BC7A00 } /* Comment.Preproc */\n",
       ".output_html .cpf { color: #408080; font-style: italic } /* Comment.PreprocFile */\n",
       ".output_html .c1 { color: #408080; font-style: italic } /* Comment.Single */\n",
       ".output_html .cs { color: #408080; font-style: italic } /* Comment.Special */\n",
       ".output_html .gd { color: #A00000 } /* Generic.Deleted */\n",
       ".output_html .ge { font-style: italic } /* Generic.Emph */\n",
       ".output_html .gr { color: #FF0000 } /* Generic.Error */\n",
       ".output_html .gh { color: #000080; font-weight: bold } /* Generic.Heading */\n",
       ".output_html .gi { color: #00A000 } /* Generic.Inserted */\n",
       ".output_html .go { color: #888888 } /* Generic.Output */\n",
       ".output_html .gp { color: #000080; font-weight: bold } /* Generic.Prompt */\n",
       ".output_html .gs { font-weight: bold } /* Generic.Strong */\n",
       ".output_html .gu { color: #800080; font-weight: bold } /* Generic.Subheading */\n",
       ".output_html .gt { color: #0044DD } /* Generic.Traceback */\n",
       ".output_html .kc { color: #008000; font-weight: bold } /* Keyword.Constant */\n",
       ".output_html .kd { color: #008000; font-weight: bold } /* Keyword.Declaration */\n",
       ".output_html .kn { color: #008000; font-weight: bold } /* Keyword.Namespace */\n",
       ".output_html .kp { color: #008000 } /* Keyword.Pseudo */\n",
       ".output_html .kr { color: #008000; font-weight: bold } /* Keyword.Reserved */\n",
       ".output_html .kt { color: #B00040 } /* Keyword.Type */\n",
       ".output_html .m { color: #666666 } /* Literal.Number */\n",
       ".output_html .s { color: #BA2121 } /* Literal.String */\n",
       ".output_html .na { color: #7D9029 } /* Name.Attribute */\n",
       ".output_html .nb { color: #008000 } /* Name.Builtin */\n",
       ".output_html .nc { color: #0000FF; font-weight: bold } /* Name.Class */\n",
       ".output_html .no { color: #880000 } /* Name.Constant */\n",
       ".output_html .nd { color: #AA22FF } /* Name.Decorator */\n",
       ".output_html .ni { color: #999999; font-weight: bold } /* Name.Entity */\n",
       ".output_html .ne { color: #D2413A; font-weight: bold } /* Name.Exception */\n",
       ".output_html .nf { color: #0000FF } /* Name.Function */\n",
       ".output_html .nl { color: #A0A000 } /* Name.Label */\n",
       ".output_html .nn { color: #0000FF; font-weight: bold } /* Name.Namespace */\n",
       ".output_html .nt { color: #008000; font-weight: bold } /* Name.Tag */\n",
       ".output_html .nv { color: #19177C } /* Name.Variable */\n",
       ".output_html .ow { color: #AA22FF; font-weight: bold } /* Operator.Word */\n",
       ".output_html .w { color: #bbbbbb } /* Text.Whitespace */\n",
       ".output_html .mb { color: #666666 } /* Literal.Number.Bin */\n",
       ".output_html .mf { color: #666666 } /* Literal.Number.Float */\n",
       ".output_html .mh { color: #666666 } /* Literal.Number.Hex */\n",
       ".output_html .mi { color: #666666 } /* Literal.Number.Integer */\n",
       ".output_html .mo { color: #666666 } /* Literal.Number.Oct */\n",
       ".output_html .sa { color: #BA2121 } /* Literal.String.Affix */\n",
       ".output_html .sb { color: #BA2121 } /* Literal.String.Backtick */\n",
       ".output_html .sc { color: #BA2121 } /* Literal.String.Char */\n",
       ".output_html .dl { color: #BA2121 } /* Literal.String.Delimiter */\n",
       ".output_html .sd { color: #BA2121; font-style: italic } /* Literal.String.Doc */\n",
       ".output_html .s2 { color: #BA2121 } /* Literal.String.Double */\n",
       ".output_html .se { color: #BB6622; font-weight: bold } /* Literal.String.Escape */\n",
       ".output_html .sh { color: #BA2121 } /* Literal.String.Heredoc */\n",
       ".output_html .si { color: #BB6688; font-weight: bold } /* Literal.String.Interpol */\n",
       ".output_html .sx { color: #008000 } /* Literal.String.Other */\n",
       ".output_html .sr { color: #BB6688 } /* Literal.String.Regex */\n",
       ".output_html .s1 { color: #BA2121 } /* Literal.String.Single */\n",
       ".output_html .ss { color: #19177C } /* Literal.String.Symbol */\n",
       ".output_html .bp { color: #008000 } /* Name.Builtin.Pseudo */\n",
       ".output_html .fm { color: #0000FF } /* Name.Function.Magic */\n",
       ".output_html .vc { color: #19177C } /* Name.Variable.Class */\n",
       ".output_html .vg { color: #19177C } /* Name.Variable.Global */\n",
       ".output_html .vi { color: #19177C } /* Name.Variable.Instance */\n",
       ".output_html .vm { color: #19177C } /* Name.Variable.Magic */\n",
       ".output_html .il { color: #666666 } /* Literal.Number.Integer.Long */</style><div class=\"highlight\"><pre><span></span>alt.renderers.enable(&quot;extract-ibis-sql&quot;)\n",
       "</pre></div>\n"
      ],
      "text/latex": [
       "\\begin{Verbatim}[commandchars=\\\\\\{\\}]\n",
       "alt.renderers.enable(\\PYZdq{}extract\\PYZhy{}ibis\\PYZhy{}sql\\PYZdq{})\n",
       "\\end{Verbatim}\n"
      ],
      "text/plain": [
       "alt.renderers.enable(\"extract-ibis-sql\")"
      ]
     },
     "metadata": {},
     "output_type": "display_data"
    },
    {
     "data": {
      "text/html": [
       "<style>.output_html .hll { background-color: #ffffcc }\n",
       ".output_html  { background: #f8f8f8; }\n",
       ".output_html .c { color: #408080; font-style: italic } /* Comment */\n",
       ".output_html .err { border: 1px solid #FF0000 } /* Error */\n",
       ".output_html .k { color: #008000; font-weight: bold } /* Keyword */\n",
       ".output_html .o { color: #666666 } /* Operator */\n",
       ".output_html .ch { color: #408080; font-style: italic } /* Comment.Hashbang */\n",
       ".output_html .cm { color: #408080; font-style: italic } /* Comment.Multiline */\n",
       ".output_html .cp { color: #BC7A00 } /* Comment.Preproc */\n",
       ".output_html .cpf { color: #408080; font-style: italic } /* Comment.PreprocFile */\n",
       ".output_html .c1 { color: #408080; font-style: italic } /* Comment.Single */\n",
       ".output_html .cs { color: #408080; font-style: italic } /* Comment.Special */\n",
       ".output_html .gd { color: #A00000 } /* Generic.Deleted */\n",
       ".output_html .ge { font-style: italic } /* Generic.Emph */\n",
       ".output_html .gr { color: #FF0000 } /* Generic.Error */\n",
       ".output_html .gh { color: #000080; font-weight: bold } /* Generic.Heading */\n",
       ".output_html .gi { color: #00A000 } /* Generic.Inserted */\n",
       ".output_html .go { color: #888888 } /* Generic.Output */\n",
       ".output_html .gp { color: #000080; font-weight: bold } /* Generic.Prompt */\n",
       ".output_html .gs { font-weight: bold } /* Generic.Strong */\n",
       ".output_html .gu { color: #800080; font-weight: bold } /* Generic.Subheading */\n",
       ".output_html .gt { color: #0044DD } /* Generic.Traceback */\n",
       ".output_html .kc { color: #008000; font-weight: bold } /* Keyword.Constant */\n",
       ".output_html .kd { color: #008000; font-weight: bold } /* Keyword.Declaration */\n",
       ".output_html .kn { color: #008000; font-weight: bold } /* Keyword.Namespace */\n",
       ".output_html .kp { color: #008000 } /* Keyword.Pseudo */\n",
       ".output_html .kr { color: #008000; font-weight: bold } /* Keyword.Reserved */\n",
       ".output_html .kt { color: #B00040 } /* Keyword.Type */\n",
       ".output_html .m { color: #666666 } /* Literal.Number */\n",
       ".output_html .s { color: #BA2121 } /* Literal.String */\n",
       ".output_html .na { color: #7D9029 } /* Name.Attribute */\n",
       ".output_html .nb { color: #008000 } /* Name.Builtin */\n",
       ".output_html .nc { color: #0000FF; font-weight: bold } /* Name.Class */\n",
       ".output_html .no { color: #880000 } /* Name.Constant */\n",
       ".output_html .nd { color: #AA22FF } /* Name.Decorator */\n",
       ".output_html .ni { color: #999999; font-weight: bold } /* Name.Entity */\n",
       ".output_html .ne { color: #D2413A; font-weight: bold } /* Name.Exception */\n",
       ".output_html .nf { color: #0000FF } /* Name.Function */\n",
       ".output_html .nl { color: #A0A000 } /* Name.Label */\n",
       ".output_html .nn { color: #0000FF; font-weight: bold } /* Name.Namespace */\n",
       ".output_html .nt { color: #008000; font-weight: bold } /* Name.Tag */\n",
       ".output_html .nv { color: #19177C } /* Name.Variable */\n",
       ".output_html .ow { color: #AA22FF; font-weight: bold } /* Operator.Word */\n",
       ".output_html .w { color: #bbbbbb } /* Text.Whitespace */\n",
       ".output_html .mb { color: #666666 } /* Literal.Number.Bin */\n",
       ".output_html .mf { color: #666666 } /* Literal.Number.Float */\n",
       ".output_html .mh { color: #666666 } /* Literal.Number.Hex */\n",
       ".output_html .mi { color: #666666 } /* Literal.Number.Integer */\n",
       ".output_html .mo { color: #666666 } /* Literal.Number.Oct */\n",
       ".output_html .sa { color: #BA2121 } /* Literal.String.Affix */\n",
       ".output_html .sb { color: #BA2121 } /* Literal.String.Backtick */\n",
       ".output_html .sc { color: #BA2121 } /* Literal.String.Char */\n",
       ".output_html .dl { color: #BA2121 } /* Literal.String.Delimiter */\n",
       ".output_html .sd { color: #BA2121; font-style: italic } /* Literal.String.Doc */\n",
       ".output_html .s2 { color: #BA2121 } /* Literal.String.Double */\n",
       ".output_html .se { color: #BB6622; font-weight: bold } /* Literal.String.Escape */\n",
       ".output_html .sh { color: #BA2121 } /* Literal.String.Heredoc */\n",
       ".output_html .si { color: #BB6688; font-weight: bold } /* Literal.String.Interpol */\n",
       ".output_html .sx { color: #008000 } /* Literal.String.Other */\n",
       ".output_html .sr { color: #BB6688 } /* Literal.String.Regex */\n",
       ".output_html .s1 { color: #BA2121 } /* Literal.String.Single */\n",
       ".output_html .ss { color: #19177C } /* Literal.String.Symbol */\n",
       ".output_html .bp { color: #008000 } /* Name.Builtin.Pseudo */\n",
       ".output_html .fm { color: #0000FF } /* Name.Function.Magic */\n",
       ".output_html .vc { color: #19177C } /* Name.Variable.Class */\n",
       ".output_html .vg { color: #19177C } /* Name.Variable.Global */\n",
       ".output_html .vi { color: #19177C } /* Name.Variable.Instance */\n",
       ".output_html .vm { color: #19177C } /* Name.Variable.Magic */\n",
       ".output_html .il { color: #666666 } /* Literal.Number.Integer.Long */</style><div class=\"highlight\"><pre><span></span>SELECT &quot;flight_dayofmonth&quot;, &quot;flight_month&quot;,\n",
       "       avg(&quot;depdelay&quot;) AS average_depdelay\n",
       "FROM (\n",
       "  SELECT &quot;flight_dayofmonth&quot;, &quot;flight_month&quot;, &quot;depdelay&quot;\n",
       "  FROM flights_donotmodify\n",
       ") t0\n",
       "GROUP BY flight_dayofmonth, flight_month\n",
       "</pre></div>\n"
      ],
      "text/latex": [
       "\\begin{Verbatim}[commandchars=\\\\\\{\\}]\n",
       "SELECT \\PYZdq{}flight\\PYZus{}dayofmonth\\PYZdq{}, \\PYZdq{}flight\\PYZus{}month\\PYZdq{},\n",
       "       avg(\\PYZdq{}depdelay\\PYZdq{}) AS average\\PYZus{}depdelay\n",
       "FROM (\n",
       "  SELECT \\PYZdq{}flight\\PYZus{}dayofmonth\\PYZdq{}, \\PYZdq{}flight\\PYZus{}month\\PYZdq{}, \\PYZdq{}depdelay\\PYZdq{}\n",
       "  FROM flights\\PYZus{}donotmodify\n",
       ") t0\n",
       "GROUP BY flight\\PYZus{}dayofmonth, flight\\PYZus{}month\n",
       "\\end{Verbatim}\n"
      ],
      "text/plain": [
       "SELECT \"flight_dayofmonth\", \"flight_month\",\n",
       "       avg(\"depdelay\") AS average_depdelay\n",
       "FROM (\n",
       "  SELECT \"flight_dayofmonth\", \"flight_month\", \"depdelay\"\n",
       "  FROM flights_donotmodify\n",
       ") t0\n",
       "GROUP BY flight_dayofmonth, flight_month"
      ]
     },
     "metadata": {},
     "output_type": "display_data"
    },
    {
     "data": {
      "text/html": [
       "<style>.output_html .hll { background-color: #ffffcc }\n",
       ".output_html  { background: #f8f8f8; }\n",
       ".output_html .c { color: #408080; font-style: italic } /* Comment */\n",
       ".output_html .err { border: 1px solid #FF0000 } /* Error */\n",
       ".output_html .k { color: #008000; font-weight: bold } /* Keyword */\n",
       ".output_html .o { color: #666666 } /* Operator */\n",
       ".output_html .ch { color: #408080; font-style: italic } /* Comment.Hashbang */\n",
       ".output_html .cm { color: #408080; font-style: italic } /* Comment.Multiline */\n",
       ".output_html .cp { color: #BC7A00 } /* Comment.Preproc */\n",
       ".output_html .cpf { color: #408080; font-style: italic } /* Comment.PreprocFile */\n",
       ".output_html .c1 { color: #408080; font-style: italic } /* Comment.Single */\n",
       ".output_html .cs { color: #408080; font-style: italic } /* Comment.Special */\n",
       ".output_html .gd { color: #A00000 } /* Generic.Deleted */\n",
       ".output_html .ge { font-style: italic } /* Generic.Emph */\n",
       ".output_html .gr { color: #FF0000 } /* Generic.Error */\n",
       ".output_html .gh { color: #000080; font-weight: bold } /* Generic.Heading */\n",
       ".output_html .gi { color: #00A000 } /* Generic.Inserted */\n",
       ".output_html .go { color: #888888 } /* Generic.Output */\n",
       ".output_html .gp { color: #000080; font-weight: bold } /* Generic.Prompt */\n",
       ".output_html .gs { font-weight: bold } /* Generic.Strong */\n",
       ".output_html .gu { color: #800080; font-weight: bold } /* Generic.Subheading */\n",
       ".output_html .gt { color: #0044DD } /* Generic.Traceback */\n",
       ".output_html .kc { color: #008000; font-weight: bold } /* Keyword.Constant */\n",
       ".output_html .kd { color: #008000; font-weight: bold } /* Keyword.Declaration */\n",
       ".output_html .kn { color: #008000; font-weight: bold } /* Keyword.Namespace */\n",
       ".output_html .kp { color: #008000 } /* Keyword.Pseudo */\n",
       ".output_html .kr { color: #008000; font-weight: bold } /* Keyword.Reserved */\n",
       ".output_html .kt { color: #B00040 } /* Keyword.Type */\n",
       ".output_html .m { color: #666666 } /* Literal.Number */\n",
       ".output_html .s { color: #BA2121 } /* Literal.String */\n",
       ".output_html .na { color: #7D9029 } /* Name.Attribute */\n",
       ".output_html .nb { color: #008000 } /* Name.Builtin */\n",
       ".output_html .nc { color: #0000FF; font-weight: bold } /* Name.Class */\n",
       ".output_html .no { color: #880000 } /* Name.Constant */\n",
       ".output_html .nd { color: #AA22FF } /* Name.Decorator */\n",
       ".output_html .ni { color: #999999; font-weight: bold } /* Name.Entity */\n",
       ".output_html .ne { color: #D2413A; font-weight: bold } /* Name.Exception */\n",
       ".output_html .nf { color: #0000FF } /* Name.Function */\n",
       ".output_html .nl { color: #A0A000 } /* Name.Label */\n",
       ".output_html .nn { color: #0000FF; font-weight: bold } /* Name.Namespace */\n",
       ".output_html .nt { color: #008000; font-weight: bold } /* Name.Tag */\n",
       ".output_html .nv { color: #19177C } /* Name.Variable */\n",
       ".output_html .ow { color: #AA22FF; font-weight: bold } /* Operator.Word */\n",
       ".output_html .w { color: #bbbbbb } /* Text.Whitespace */\n",
       ".output_html .mb { color: #666666 } /* Literal.Number.Bin */\n",
       ".output_html .mf { color: #666666 } /* Literal.Number.Float */\n",
       ".output_html .mh { color: #666666 } /* Literal.Number.Hex */\n",
       ".output_html .mi { color: #666666 } /* Literal.Number.Integer */\n",
       ".output_html .mo { color: #666666 } /* Literal.Number.Oct */\n",
       ".output_html .sa { color: #BA2121 } /* Literal.String.Affix */\n",
       ".output_html .sb { color: #BA2121 } /* Literal.String.Backtick */\n",
       ".output_html .sc { color: #BA2121 } /* Literal.String.Char */\n",
       ".output_html .dl { color: #BA2121 } /* Literal.String.Delimiter */\n",
       ".output_html .sd { color: #BA2121; font-style: italic } /* Literal.String.Doc */\n",
       ".output_html .s2 { color: #BA2121 } /* Literal.String.Double */\n",
       ".output_html .se { color: #BB6622; font-weight: bold } /* Literal.String.Escape */\n",
       ".output_html .sh { color: #BA2121 } /* Literal.String.Heredoc */\n",
       ".output_html .si { color: #BB6688; font-weight: bold } /* Literal.String.Interpol */\n",
       ".output_html .sx { color: #008000 } /* Literal.String.Other */\n",
       ".output_html .sr { color: #BB6688 } /* Literal.String.Regex */\n",
       ".output_html .s1 { color: #BA2121 } /* Literal.String.Single */\n",
       ".output_html .ss { color: #19177C } /* Literal.String.Symbol */\n",
       ".output_html .bp { color: #008000 } /* Name.Builtin.Pseudo */\n",
       ".output_html .fm { color: #0000FF } /* Name.Function.Magic */\n",
       ".output_html .vc { color: #19177C } /* Name.Variable.Class */\n",
       ".output_html .vg { color: #19177C } /* Name.Variable.Global */\n",
       ".output_html .vi { color: #19177C } /* Name.Variable.Instance */\n",
       ".output_html .vm { color: #19177C } /* Name.Variable.Magic */\n",
       ".output_html .il { color: #666666 } /* Literal.Number.Integer.Long */</style><div class=\"highlight\"><pre><span></span>alt.renderers.enable(&quot;extract-ibis&quot;)\n",
       "</pre></div>\n"
      ],
      "text/latex": [
       "\\begin{Verbatim}[commandchars=\\\\\\{\\}]\n",
       "alt.renderers.enable(\\PYZdq{}extract\\PYZhy{}ibis\\PYZdq{})\n",
       "\\end{Verbatim}\n"
      ],
      "text/plain": [
       "alt.renderers.enable(\"extract-ibis\")"
      ]
     },
     "metadata": {},
     "output_type": "display_data"
    },
    {
     "data": {
      "application/vnd.vegalite.v2+json": {
       "data": {
        "values": []
       },
       "mark": "bar"
      },
      "image/png": "[encoded data removed]",
      "text/plain": [
       "<VegaLite 2 object>\n",
       "\n",
       "If you see this message, it means the renderer has not been properly enabled\n",
       "for the frontend that you are using. For more information, see\n",
       "https://altair-viz.github.io/user_guide/troubleshooting.html\n"
      ]
     },
     "metadata": {},
     "output_type": "display_data"
    },
    {
     "data": {
      "text/html": [
       "<pre><code>omnisci_renderer.display_chart(delay_by_month)\n",
       "</code></pre>"
      ],
      "text/markdown": [
       "    omnisci_renderer.display_chart(delay_by_month)"
      ],
      "text/plain": [
       "'    omnisci_renderer.display_chart(delay_by_month)'"
      ]
     },
     "metadata": {},
     "output_type": "display_data"
    }
   ],
   "source": [
    "    omnisci_renderer.display_chart(delay_by_month)"
   ]
  }
 ],
 "metadata": {
  "kernelspec": {
   "display_name": "Python 3",
   "language": "python",
   "name": "python3"
  },
  "language_info": {
   "codemirror_mode": {
    "name": "ipython",
    "version": 3
   },
   "file_extension": ".py",
   "mimetype": "text/x-python",
   "name": "python",
   "nbconvert_exporter": "python",
   "pygments_lexer": "ipython3",
   "version": "3.6.6"
  },
  "nikola": {
   "author": "Saul Shanabrook",
   "date": "2018-11-26 14:01:24 UTC",
   "description": "    %reload_ext pidgin",
   "slug": "4. Extract Use Cases - VL examples.ipynb",
   "title": "4. Extract Use Cases - VL examples.ipynb",
   "type": "text"
  }
 },
 "nbformat": 4,
 "nbformat_minor": 2
}
