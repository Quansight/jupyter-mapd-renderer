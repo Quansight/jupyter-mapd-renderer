{
 "cells": [
  {
   "cell_type": "markdown",
   "metadata": {},
   "source": [
    "# Extracting vega lite from altair"
   ]
  },
  {
   "cell_type": "markdown",
   "metadata": {},
   "source": [
    "Let's create an example altair chart:"
   ]
  },
  {
   "cell_type": "code",
   "execution_count": 1,
   "metadata": {},
   "outputs": [
    {
     "data": {
      "application/vnd.vegalite.v2+json": {
       "$schema": "https://vega.github.io/schema/vega-lite/v2.6.0.json",
       "config": {
        "view": {
         "height": 300,
         "width": 400
        }
       },
       "data": {
        "format": {
         "type": "json"
        },
        "url": "https://vega.github.io/vega-datasets/data/population.json"
       },
       "encoding": {
        "x": {
         "aggregate": "sum",
         "axis": {
          "title": "population"
         },
         "field": "people",
         "type": "quantitative"
        },
        "y": {
         "field": "age",
         "type": "ordinal"
        }
       },
       "height": 300,
       "mark": "bar",
       "transform": [
        {
         "filter": "(datum.year === 2000)"
        }
       ],
       "width": 300
      },
      "image/png": "[encoded data removed]",
      "text/plain": [
       "<VegaLite 2 object>\n",
       "\n",
       "If you see this message, it means the renderer has not been properly enabled\n",
       "for the frontend that you are using. For more information, see\n",
       "https://altair-viz.github.io/user_guide/troubleshooting.html\n"
      ]
     },
     "execution_count": 1,
     "metadata": {},
     "output_type": "execute_result"
    }
   ],
   "source": [
    "import altair as alt\n",
    "from altair.expr import datum\n",
    "\n",
    "from vega_datasets import data\n",
    "pop = data.population.url\n",
    "\n",
    "alt.renderers.enable('default')\n",
    "c = alt.Chart(pop).mark_bar().encode(\n",
    "    x=alt.X('sum(people):Q', axis=alt.Axis(title='population')),\n",
    "    y='age:O'\n",
    ").properties(\n",
    "    height=300,\n",
    "    width=300\n",
    ").transform_filter(\n",
    "    datum.year == 2000\n",
    ")\n",
    "c"
   ]
  },
  {
   "cell_type": "markdown",
   "metadata": {},
   "source": [
    "Now let's look at the json representation of the vega lite:"
   ]
  },
  {
   "cell_type": "code",
   "execution_count": 2,
   "metadata": {},
   "outputs": [
    {
     "data": {
      "application/json": {
       "$schema": "https://vega.github.io/schema/vega-lite/v2.6.0.json",
       "config": {
        "view": {
         "height": 300,
         "width": 400
        }
       },
       "data": {
        "url": "https://vega.github.io/vega-datasets/data/population.json"
       },
       "encoding": {
        "x": {
         "aggregate": "sum",
         "axis": {
          "title": "population"
         },
         "field": "people",
         "type": "quantitative"
        },
        "y": {
         "field": "age",
         "type": "ordinal"
        }
       },
       "height": 300,
       "mark": "bar",
       "transform": [
        {
         "filter": "(datum.year === 2000)"
        }
       ],
       "width": 300
      },
      "text/plain": [
       "<VegaLite 2 object>\n",
       "\n",
       "If you see this message, it means the renderer has not been properly enabled\n",
       "for the frontend that you are using. For more information, see\n",
       "https://altair-viz.github.io/user_guide/troubleshooting.html\n"
      ]
     },
     "execution_count": 2,
     "metadata": {},
     "output_type": "execute_result"
    }
   ],
   "source": [
    "alt.renderers.enable('json')\n",
    "c\n"
   ]
  },
  {
   "cell_type": "markdown",
   "metadata": {},
   "source": [
    "Let's now render this but instead extract transformations out to the top level of the vega lite spec:"
   ]
  },
  {
   "cell_type": "code",
   "execution_count": 3,
   "metadata": {},
   "outputs": [
    {
     "name": "stderr",
     "output_type": "stream",
     "text": [
      "C:\\Anaconda3\\lib\\site-packages\\ibis\\sql\\postgres\\compiler.py:223: UserWarning: locale specific date formats (%c, %x, %X) are not yet implemented for Windows\n",
      "  'for %s' % platform.system()\n"
     ]
    },
    {
     "data": {
      "application/json": {
       "$schema": "https://vega.github.io/schema/vega-lite/v2.6.0.json",
       "config": {
        "view": {
         "height": 300,
         "width": 400
        }
       },
       "data": {
        "url": "https://vega.github.io/vega-datasets/data/population.json"
       },
       "encoding": {
        "x": {
         "axis": {
          "title": "population"
         },
         "field": "sum_people",
         "type": "quantitative"
        },
        "y": {
         "field": "age",
         "type": "ordinal"
        }
       },
       "height": 300,
       "mark": "bar",
       "transform": [
        {
         "filter": "(datum.year === 2000)"
        },
        {
         "aggregate": [
          {
           "as": "sum_people",
           "field": "people",
           "op": "sum"
          }
         ],
         "groupby": [
          "age"
         ]
        }
       ],
       "width": 300
      },
      "text/plain": [
       "<IPython.core.display.JSON object>"
      ]
     },
     "metadata": {
      "application/json": {
       "expanded": false,
       "root": "root"
      }
     },
     "output_type": "display_data"
    },
    {
     "data": {
      "text/plain": []
     },
     "execution_count": 3,
     "metadata": {},
     "output_type": "execute_result"
    }
   ],
   "source": [
    "import omnisci_renderer\n",
    "alt.renderers.enable('extract-json')\n",
    "c"
   ]
  },
  {
   "cell_type": "markdown",
   "metadata": {},
   "source": [
    "Now we see transformations at the top here.\n",
    "\n",
    "We can also plot this transformed chart, which looks the same:"
   ]
  },
  {
   "cell_type": "code",
   "execution_count": 4,
   "metadata": {},
   "outputs": [
    {
     "data": {
      "application/vnd.vegalite.v2+json": {
       "$schema": "https://vega.github.io/schema/vega-lite/v2.6.0.json",
       "config": {
        "view": {
         "height": 300,
         "width": 400
        }
       },
       "data": {
        "format": {
         "type": "json"
        },
        "url": "https://vega.github.io/vega-datasets/data/population.json"
       },
       "encoding": {
        "x": {
         "axis": {
          "title": "population"
         },
         "field": "sum_people",
         "type": "quantitative"
        },
        "y": {
         "field": "age",
         "type": "ordinal"
        }
       },
       "height": 300,
       "mark": "bar",
       "transform": [
        {
         "filter": "(datum.year === 2000)"
        },
        {
         "aggregate": [
          {
           "as": "sum_people",
           "field": "people",
           "op": "sum"
          }
         ],
         "groupby": [
          "age"
         ]
        }
       ],
       "width": 300
      },
      "image/png": "[encoded data removed]",
      "text/plain": [
       "<VegaLite 2 object>\n",
       "\n",
       "If you see this message, it means the renderer has not been properly enabled\n",
       "for the frontend that you are using. For more information, see\n",
       "https://altair-viz.github.io/user_guide/troubleshooting.html\n"
      ]
     },
     "metadata": {},
     "output_type": "display_data"
    },
    {
     "data": {
      "text/plain": []
     },
     "execution_count": 4,
     "metadata": {},
     "output_type": "execute_result"
    }
   ],
   "source": [
    "alt.renderers.enable('extract')\n",
    "c"
   ]
  },
  {
   "cell_type": "code",
   "execution_count": null,
   "metadata": {},
   "outputs": [],
   "source": []
  }
 ],
 "metadata": {
  "kernelspec": {
   "display_name": "Python 3",
   "language": "python",
   "name": "python3"
  },
  "language_info": {
   "codemirror_mode": {
    "name": "ipython",
    "version": 3
   },
   "file_extension": ".py",
   "mimetype": "text/x-python",
   "name": "python",
   "nbconvert_exporter": "python",
   "pygments_lexer": "ipython3",
   "version": "3.6.6"
  },
  "nikola": {
   "author": "Saul Shanabrook",
   "date": "2018-10-30 19:11:47 UTC",
   "description": "# Extracting vega lite from altair",
   "slug": "2. Extract From Altair.ipynb",
   "title": "2. Extract From Altair.ipynb",
   "type": "text"
  }
 },
 "nbformat": 4,
 "nbformat_minor": 2
}
