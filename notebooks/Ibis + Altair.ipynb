{
 "cells": [
  {
   "cell_type": "markdown",
   "metadata": {},
   "source": [
    "# Using Ibis and Altair for OmniSci\n",
    "\n",
    "In this notebook, we will use Ibis to build OmniSci query and then use Altair to compose a visualization on top of it.\n",
    "\n",
    "We will be plotting a map of a bunch of tweets.\n",
    "\n",
    "## Assembling the Query\n",
    "First, let's connect to the omnisci backend and assemble the query:"
   ]
  },
  {
   "cell_type": "code",
   "execution_count": 1,
   "metadata": {},
   "outputs": [
    {
     "name": "stderr",
     "output_type": "stream",
     "text": [
      "C:\\Anaconda3\\lib\\site-packages\\ibis\\sql\\postgres\\compiler.py:223: UserWarning: locale specific date formats (%c, %x, %X) are not yet implemented for Windows\n",
      "  'for %s' % platform.system()\n"
     ]
    }
   ],
   "source": [
    "import omnisci_renderer\n",
    "import ibis\n",
    "import altair as alt"
   ]
  },
  {
   "cell_type": "code",
   "execution_count": 2,
   "metadata": {},
   "outputs": [],
   "source": [
    "omnisci_cli = ibis.mapd.connect(\n",
    "    host='metis.mapd.com', user='mapd', password='HyperInteractive',\n",
    "    port=443, database='mapd', protocol= 'https'\n",
    ")"
   ]
  },
  {
   "cell_type": "code",
   "execution_count": 3,
   "metadata": {},
   "outputs": [],
   "source": [
    "t = omnisci_cli.table('tweets_nov_feb')"
   ]
  },
  {
   "cell_type": "code",
   "execution_count": 4,
   "metadata": {},
   "outputs": [
    {
     "name": "stdout",
     "output_type": "stream",
     "text": [
      "SELECT \"goog_x\" AS x, \"goog_y\" AS y, \"tweet_id\" AS rowid\n",
      "FROM tweets_nov_feb\n"
     ]
    }
   ],
   "source": [
    "expr = t[t.goog_x.name('x'), t.goog_y.name('y'), t.tweet_id.name('rowid')]\n",
    "print(expr.compile())"
   ]
  },
  {
   "cell_type": "markdown",
   "metadata": {},
   "source": [
    "## Browser rendering\n",
    "Now, let's first try rendering this by getting a Pandas DataFrame \n",
    "and rendering this on the browser"
   ]
  },
  {
   "cell_type": "code",
   "execution_count": 5,
   "metadata": {},
   "outputs": [
    {
     "data": {
      "text/html": [
       "<div>\n",
       "<style scoped>\n",
       "    .dataframe tbody tr th:only-of-type {\n",
       "        vertical-align: middle;\n",
       "    }\n",
       "\n",
       "    .dataframe tbody tr th {\n",
       "        vertical-align: top;\n",
       "    }\n",
       "\n",
       "    .dataframe thead th {\n",
       "        text-align: right;\n",
       "    }\n",
       "</style>\n",
       "<table border=\"1\" class=\"dataframe\">\n",
       "  <thead>\n",
       "    <tr style=\"text-align: right;\">\n",
       "      <th></th>\n",
       "      <th>x</th>\n",
       "      <th>y</th>\n",
       "      <th>rowid</th>\n",
       "    </tr>\n",
       "  </thead>\n",
       "  <tbody>\n",
       "    <tr>\n",
       "      <th>0</th>\n",
       "      <td>14901896.0</td>\n",
       "      <td>4116482.50</td>\n",
       "      <td>528340935361318912</td>\n",
       "    </tr>\n",
       "    <tr>\n",
       "      <th>1</th>\n",
       "      <td>16176363.0</td>\n",
       "      <td>-4547984.00</td>\n",
       "      <td>528340935378096128</td>\n",
       "    </tr>\n",
       "    <tr>\n",
       "      <th>2</th>\n",
       "      <td>-9273029.0</td>\n",
       "      <td>5176628.00</td>\n",
       "      <td>528340939178536960</td>\n",
       "    </tr>\n",
       "    <tr>\n",
       "      <th>3</th>\n",
       "      <td>3618257.5</td>\n",
       "      <td>4582324.00</td>\n",
       "      <td>528340939178524672</td>\n",
       "    </tr>\n",
       "    <tr>\n",
       "      <th>4</th>\n",
       "      <td>-5483653.0</td>\n",
       "      <td>-2930803.75</td>\n",
       "      <td>528340943553171456</td>\n",
       "    </tr>\n",
       "  </tbody>\n",
       "</table>\n",
       "</div>"
      ],
      "text/plain": [
       "            x           y               rowid\n",
       "0  14901896.0  4116482.50  528340935361318912\n",
       "1  16176363.0 -4547984.00  528340935378096128\n",
       "2  -9273029.0  5176628.00  528340939178536960\n",
       "3   3618257.5  4582324.00  528340939178524672\n",
       "4  -5483653.0 -2930803.75  528340943553171456"
      ]
     },
     "execution_count": 5,
     "metadata": {},
     "output_type": "execute_result"
    }
   ],
   "source": [
    "df = expr.execute()\n",
    "df.head()"
   ]
  },
  {
   "cell_type": "markdown",
   "metadata": {},
   "source": [
    "This is a lot of data, so let's tell Altair to save it as a temporary JSON file. \n",
    "\n",
    "This way it all won't be stored in the notebook"
   ]
  },
  {
   "cell_type": "code",
   "execution_count": 6,
   "metadata": {},
   "outputs": [
    {
     "data": {
      "application/vnd.vegalite.v2+json": {
       "$schema": "https://vega.github.io/schema/vega-lite/v2.6.0.json",
       "config": {
        "view": {
         "height": 300,
         "width": 400
        }
       },
       "data": {
        "format": {
         "type": "json"
        },
        "url": "altair-data-2a5f68a34ef6933f28262d1d88e05041.json"
       },
       "encoding": {
        "x": {
         "field": "x",
         "scale": {
          "domain": [
           -3650484.1235206556,
           7413325.514451755
          ],
          "range": "width"
         },
         "type": "quantitative"
        },
        "y": {
         "field": "y",
         "scale": {
          "domain": [
           -5778161.9183506705,
           10471808.487466192
          ],
          "range": "height"
         },
         "type": "quantitative"
        }
       },
       "height": 564,
       "mark": {
        "clip": true,
        "color": "green",
        "size": 2,
        "type": "square"
       },
       "width": 384
      },
      "image/png": "[encoded data removed]",
      "text/plain": [
       "<VegaLite 2 object>\n",
       "\n",
       "If you see this message, it means the renderer has not been properly enabled\n",
       "for the frontend that you are using. For more information, see\n",
       "https://altair-viz.github.io/user_guide/troubleshooting.html\n"
      ]
     },
     "execution_count": 6,
     "metadata": {},
     "output_type": "execute_result"
    }
   ],
   "source": [
    "alt.data_transformers.enable('json')\n",
    "alt.renderers.enable('default')\n",
    "alt.Chart(df, width=384, height=564).mark_square(\n",
    "    color='green',\n",
    "    size=2,\n",
    "    clip=True\n",
    ").encode(\n",
    "    alt.X(\n",
    "        'x:Q',\n",
    "        scale=alt.Scale(domain=[-3650484.1235206556, 7413325.514451755], range='width')\n",
    "    ),\n",
    "    alt.Y(\n",
    "        'y:Q',\n",
    "        scale=alt.Scale(domain=[-5778161.9183506705, 10471808.487466192], range='height')\n",
    "    ),\n",
    ")"
   ]
  },
  {
   "cell_type": "markdown",
   "metadata": {},
   "source": [
    "## OmniSci Rendering\n",
    "\n",
    "That looks OK, but we seem to be missing some data! Well omnisci's API has a default max row limit. Instead of increasing this, let's move all the computation to omnisci, so that\n",
    "we don't have to send all the data to the client, just the rendered graphic.\n",
    "\n",
    "We enable the omnisci renderer with our connection info and then Altair will treat the string we pass in as a Mapd SQL query."
   ]
  },
  {
   "cell_type": "code",
   "execution_count": null,
   "metadata": {},
   "outputs": [],
   "source": [
    "alt.renderers.enable('omnisci', conn=omnisci_cli)\n",
    "alt.Chart(expr.compile(), width=384, height=564).mark_square(\n",
    "    color='green',\n",
    "    size=2,\n",
    "    clip=True\n",
    ").encode(\n",
    "    alt.X(\n",
    "        'x:Q',\n",
    "        scale=alt.Scale(domain=[-3650484.1235206556, 7413325.514451755], range='width')\n",
    "    ),\n",
    "    alt.Y(\n",
    "        'y:Q',\n",
    "        scale=alt.Scale(domain=[-5778161.9183506705, 10471808.487466192], range='height')\n",
    "    ),\n",
    ")"
   ]
  },
  {
   "cell_type": "markdown",
   "metadata": {},
   "source": [
    "You see that we used the exact same Altair code, but we just changed the input. However, it does look a bit different because OmniScis vega backend doesn't behave the same as the standard javascript one. "
   ]
  }
 ],
 "metadata": {
  "kernelspec": {
   "display_name": "Python 3",
   "language": "python",
   "name": "python3"
  },
  "language_info": {
   "codemirror_mode": {
    "name": "ipython",
    "version": 3
   },
   "file_extension": ".py",
   "mimetype": "text/x-python",
   "name": "python",
   "nbconvert_exporter": "python",
   "pygments_lexer": "ipython3",
   "version": "3.6.6"
  },
  "nikola": {
   "author": "Saul Shanabrook, Ian Rose",
   "date": "2018-10-30 23:35:37 UTC",
   "description": "# Using Ibis and Altair for OmniSci\n\nIn this notebook, we will use Ibis to build OmniSci query and then use Altair to compose a visualization on top of it.\n\nWe will be plotting a map of a bunch of tweets.\n\n## Assembling the Query\nFirst, let's connect to the omnisci backend and assemble the query:",
   "slug": "Ibis + Altair.ipynb",
   "title": "Ibis + Altair.ipynb",
   "type": "text"
  }
 },
 "nbformat": 4,
 "nbformat_minor": 2
}
